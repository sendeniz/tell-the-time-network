{
 "cells": [
  {
   "cell_type": "markdown",
   "metadata": {
    "colab_type": "text",
    "id": "6Wph1ARDuTqO"
   },
   "source": [
    "# Deep Learning and Neural Networks: Tell the Time Network"
   ]
  },
  {
   "cell_type": "markdown",
   "metadata": {
    "colab_type": "text",
    "id": "7BGAvNAjuTqS"
   },
   "source": [
    "## 0 Preliminaries"
   ]
  },
  {
   "cell_type": "code",
   "execution_count": 0,
   "metadata": {
    "colab": {},
    "colab_type": "code",
    "id": "Ri-CWqrr4aOO"
   },
   "outputs": [],
   "source": [
    "# import libraries\n",
    "import pandas as pd\n",
    "from google.colab import drive\n",
    "import matplotlib.pyplot as plt\n",
    "from tensorflow import keras\n",
    "import tensorflow as tf\n",
    "from functools import partial\n",
    "import numpy as np\n",
    "import os\n",
    "import gc\n",
    "import seaborn as sns\n",
    "\n",
    "#set global hyperparameters\n",
    "epochs, patience = 300, 30"
   ]
  },
  {
   "cell_type": "code",
   "execution_count": 0,
   "metadata": {
    "colab": {},
    "colab_type": "code",
    "id": "Q5M-Jz4p4h3L"
   },
   "outputs": [],
   "source": [
    "#mount drive and set folder paths\n",
    "drive.mount('/content/gdrive/')\n",
    "\n",
    "model_path = \"/content/gdrive/My Drive/DLNN/A2/Models/\"\n",
    "history_path = \"/content/gdrive/My Drive/DLNN/A2/Histories/\"\n",
    "plot_path = \"/content/gdrive/My Drive/DLNN/A2/Plots/\""
   ]
  },
  {
   "cell_type": "markdown",
   "metadata": {
    "colab_type": "text",
    "id": "7BGAvNAjuTqS"
   },
   "source": [
    "## 1 MLP and CNN architecture"
   ]
  },
  {
   "cell_type": "code",
   "execution_count": 0,
   "metadata": {
    "colab": {},
    "colab_type": "code",
    "id": "-cbXKrfP5G4_"
   },
   "outputs": [],
   "source": [
    "# ### Plot time vs residuals\n",
    "### Plot time vs residuals\n",
    "Load Data\n",
    "fashion_mnist = keras.datasets.fashion_mnist\n",
    "digit_mnist = keras.datasets.mnist\n",
    "datasets = {\"Fashion\": fashion_mnist, \"Digits\": digit_mnist}"
   ]
  },
  {
   "cell_type": "markdown",
   "metadata": {
    "colab_type": "text",
    "id": "vMGSW9p8qYEY"
   },
   "source": [
    "### 1.1 Specify MLP models"
   ]
  },
  {
   "cell_type": "code",
   "execution_count": 0,
   "metadata": {
    "colab": {},
    "colab_type": "code",
    "id": "Cc-Pknwe53In"
   },
   "outputs": [],
   "source": [
    "models with ReLu with different number of layers\n",
    "act_dict = ((\"relu\", \"he_normal\"), \n",
    "            (\"tanh\", \"glorot_normal\"),\n",
    "            (\"elu\", \"he_normal\"))\n",
    "\n",
    "mlp_models = []\n",
    "sgd = keras.optimizers.SGD(learning_rate=0.02, momentum=0.9)\n",
    "\n",
    "for act in act_dict:\n",
    "    Arch_1 = keras.models.Sequential([              #300, 100, 10\n",
    "        keras.layers.Flatten(input_shape=[28, 28]),\n",
    "        keras.layers.Dense(300, activation=act[0], kernel_initializer=act[1]),\n",
    "        keras.layers.Dense(100, activation=act[0], kernel_initializer=act[1]),\n",
    "        keras.layers.Dense(10, activation=\"softmax\")\n",
    "        ], name = \"A1_\" + act[0])\n",
    "\n",
    "    Arch_2 = keras.models.Sequential([              #300, 10\n",
    "        keras.layers.Flatten(input_shape=[28, 28]),\n",
    "        keras.layers.Dense(300, activation=act[0], kernel_initializer=act[1]),\n",
    "        keras.layers.Dense(10, activation=\"softmax\")\n",
    "        ], name = \"A2_\" + act[0])\n",
    "  \n",
    "    Arch_3 = keras.models.Sequential([              #300, 100, 10, w. Dropout\n",
    "        keras.layers.Flatten(input_shape=[28, 28]),\n",
    "        keras.layers.Dense(300, activation=act[0], kernel_initializer=act[1]),\n",
    "        keras.layers.Dropout(0.5),\n",
    "        keras.layers.Dense(100, activation=act[0], kernel_initializer=act[1]),\n",
    "        keras.layers.Dense(10, activation=\"softmax\")\n",
    "        ], name = \"A3_\" + act[0])\n",
    "    \n",
    "    Arch_4 = keras.models.Sequential([              #300, 10 w. Dropout\n",
    "        keras.layers.Flatten(input_shape=[28, 28]),\n",
    "        keras.layers.Dense(300, activation=act[0], kernel_initializer=act[1]),\n",
    "        keras.layers.Dropout(0.5),\n",
    "        keras.layers.Dense(10, activation=\"softmax\")\n",
    "        ], name = \"A4_\" + act[0])\n",
    "\n",
    "    Arch_5 = keras.models.Sequential([              #300, 100, 10, w. L2\n",
    "        keras.layers.Flatten(input_shape=[28, 28]),\n",
    "        keras.layers.Dense(300, activation=act[0], kernel_initializer=act[1],\n",
    "                           kernel_regularizer = keras.regularizers.l2(0.001)),\n",
    "        keras.layers.Dense(100, activation=act[0], kernel_initializer=act[1],\n",
    "                           kernel_regularizer = keras.regularizers.l2(0.001)),\n",
    "        keras.layers.Dense(10, activation=\"softmax\")\n",
    "        ], name = \"A5_\" + act[0])\n",
    "\n",
    "    Arch_6 = keras.models.Sequential([              #300, 10 w. L2\n",
    "        keras.layers.Flatten(input_shape=[28, 28]),\n",
    "        keras.layers.Dense(300, activation=act[0], kernel_initializer=act[1],\n",
    "                           kernel_regularizer = keras.regularizers.l2(0.001)),\n",
    "        keras.layers.Dense(10, activation=\"softmax\")\n",
    "        ], name = \"A6_\" + act[0])\n",
    "    \n",
    "    arch_list = [Arch_1, Arch_2, Arch_3, Arch_4, Arch_5, Arch_6]\n",
    "    for model in arch_list:\n",
    "        model.compile(loss=\"sparse_categorical_crossentropy\",\n",
    "                  optimizer= sgd,\n",
    "                  metrics=[\"accuracy\"])\n",
    "        \n",
    "    mlp_models = mlp_models + arch_list"
   ]
  },
  {
   "cell_type": "markdown",
   "metadata": {
    "colab_type": "text",
    "id": "vMGSW9p8qYEY"
   },
   "source": [
    "### 1.2 Fit MLP models"
   ]
  },
  {
   "cell_type": "code",
   "execution_count": 0,
   "metadata": {
    "colab": {},
    "colab_type": "code",
    "id": "Tf2UIDRO593P"
   },
   "outputs": [],
   "source": [
    "\n",
    "for data_name, data in datasets.items():\n",
    "    #Load Data\n",
    "    (X_train, y_train), (X_test, y_test) = data.load_data()\n",
    "    X_train = X_train / 255.0  # Normalize to [0,1]\n",
    "    X_test = X_test / 255.0\n",
    "    X_valid, y_valid = X_train[:5000,], y_train[:5000,]\n",
    "    X_train, y_train = X_train[5000:,], y_train[5000:,]\n",
    "    for model in mlp_models: \n",
    "        save_name = data_name + \"_MLP_\" + model.name\n",
    "        try: # check if model exists\n",
    "            open(model_path + save_name + \".h5\")\n",
    "            print(\"Model Already Trained: \\n\", save_name, \"\\n\")\n",
    "            \n",
    "        except FileNotFoundError: # if no model has been trained\n",
    "            # compile the model\n",
    "            print(\"\\n Fit\", save_name, \"\\n\")\n",
    "            \n",
    "            checkpoint_cb = keras.callbacks.ModelCheckpoint(model_path + save_name + \".h5\",\n",
    "                                                            save_best_only=True)\n",
    "            \n",
    "            early_stopping_cb = keras.callbacks.EarlyStopping(patience=patience,\n",
    "                                                              restore_best_weights=True)\n",
    "\n",
    "            history = model.fit(X_train, y_train, epochs=epochs,\n",
    "                        validation_data = (X_valid, y_valid),\n",
    "                        verbose = 1,\n",
    "                        callbacks = [checkpoint_cb, early_stopping_cb]\n",
    "                        )\n",
    "              \n",
    "            # ### Specify MLP models\n",
    "write history to file\n",
    "            pd.DataFrame(history.history).to_csv(history_path + save_name + \".csv\")"
   ]
  },
  {
   "cell_type": "markdown",
   "metadata": {
    "colab_type": "text",
    "id": "vMGSW9p8qYEY"
   },
   "source": [
    "### 1.3 Specify CNN models"
   ]
  },
  {
   "cell_type": "code",
   "execution_count": 0,
   "metadata": {
    "colab": {},
    "colab_type": "code",
    "id": "T72IgOT5gBwN"
   },
   "outputs": [],
   "source": [
    "DefaultConv2D = partial(keras.layers.Conv2D,\n",
    "                        kernel_size=3,\n",
    "                        activation='relu',\n",
    "                        padding=\"SAME\")\n",
    "\n",
    "cnn_model_1 = keras.models.Sequential([\n",
    "        DefaultConv2D(filters=64, kernel_size=7, input_shape=[28, 28, 1]),\n",
    "        keras.layers.MaxPooling2D(pool_size=2),\n",
    "        DefaultConv2D(filters=256),\n",
    "        keras.layers.MaxPooling2D(pool_size=2),\n",
    "        keras.layers.Flatten(),\n",
    "        keras.layers.Dropout(0.5),\n",
    "        keras.layers.Dense(units=128, activation='relu', kernel_initializer=\"he_normal\"),\n",
    "        keras.layers.Dropout(0.2),\n",
    "        keras.layers.Dense(units=10, activation='softmax'),\n",
    "        ], name = \"A1\")\n",
    "    \n",
    "cnn_model_2 = keras.models.Sequential([\n",
    "        DefaultConv2D(filters=32, kernel_size=7, input_shape=[28, 28, 1]),\n",
    "        keras.layers.MaxPooling2D(pool_size=2),\n",
    "        keras.layers.Flatten(),\n",
    "        keras.layers.Dense(units=128, activation='relu', kernel_initializer=\"he_normal\"),\n",
    "        keras.layers.Dense(units=10, activation='softmax')\n",
    "        ], name = \"A2\")\n",
    "    \n",
    "cnn_model_3 = keras.models.Sequential([\n",
    "        DefaultConv2D(filters=64, kernel_size=7, input_shape=[28, 28, 1]),\n",
    "        keras.layers.MaxPooling2D(pool_size=2),\n",
    "        DefaultConv2D(filters=128),\n",
    "        DefaultConv2D(filters=128),\n",
    "        keras.layers.MaxPooling2D(pool_size=2),\n",
    "        DefaultConv2D(filters=256),\n",
    "        DefaultConv2D(filters=256),\n",
    "        keras.layers.MaxPooling2D(pool_size=2),\n",
    "        keras.layers.Flatten(),\n",
    "        keras.layers.Dense(units=128, activation='relu', kernel_initializer=\"he_normal\"),\n",
    "        keras.layers.Dropout(0.5),\n",
    "        keras.layers.Dense(units=64, activation='relu', kernel_initializer=\"he_normal\"),\n",
    "        keras.layers.Dropout(0.2),\n",
    "        keras.layers.Dense(units=10, activation='softmax'),\n",
    "        ], name = \"A3\")\n",
    "\n",
    "cnn_model_4 = keras.models.Sequential([\n",
    "        DefaultConv2D(filters=64, kernel_size=3, input_shape=[28, 28, 1]),\n",
    "        keras.layers.MaxPooling2D(pool_size=2),\n",
    "        DefaultConv2D(filters=256),\n",
    "        keras.layers.MaxPooling2D(pool_size=2),\n",
    "        keras.layers.Flatten(),\n",
    "        keras.layers.Dropout(0.5),\n",
    "        keras.layers.Dense(units=128, activation='relu', kernel_initializer=\"he_normal\"),\n",
    "        keras.layers.Dropout(0.2),\n",
    "        keras.layers.Dense(units=10, activation='softmax'),\n",
    "        ], name = \"A4\")\n",
    "\n",
    "cnn_model_5 = keras.models.Sequential([\n",
    "        DefaultConv2D(filters=128, kernel_size=3, input_shape=[28, 28, 1]),\n",
    "        keras.layers.MaxPooling2D(pool_size=2),\n",
    "        DefaultConv2D(filters=256),\n",
    "        keras.layers.Dropout(0.5),\n",
    "        keras.layers.MaxPooling2D(pool_size=2),\n",
    "        keras.layers.Flatten(),\n",
    "        keras.layers.Dropout(0.5),\n",
    "        keras.layers.Dense(units=128, activation='relu',\n",
    "                           kernel_initializer=\"he_normal\",\n",
    "                           kernel_regularizer = keras.regularizers.l2()),\n",
    "        keras.layers.Dropout(0.2),\n",
    "        keras.layers.Dense(units=10, activation='softmax'),\n",
    "        ], name = \"A5\")\n",
    "\n",
    "cnn_model_6 = keras.models.Sequential([\n",
    "        DefaultConv2D(filters=128, kernel_size=3, input_shape=[28, 28, 1]),\n",
    "        keras.layers.MaxPooling2D(pool_size=4),\n",
    "        DefaultConv2D(filters=256),\n",
    "        keras.layers.Dropout(0.5),\n",
    "        keras.layers.MaxPooling2D(pool_size=4),\n",
    "        keras.layers.Flatten(),\n",
    "        keras.layers.Dropout(0.5),\n",
    "        keras.layers.Dense(units=128, activation='relu',\n",
    "                           kernel_initializer=\"he_normal\",\n",
    "                           kernel_regularizer = keras.regularizers.l2()),\n",
    "        keras.layers.Dropout(0.2),\n",
    "        keras.layers.Dense(units=10, activation='softmax'),\n",
    "        ], name = \"A6\")\n",
    "\n",
    "cnn_models = [cnn_model_1, cnn_model_2, cnn_model_3, cnn_model_4,\n",
    "              cnn_model_5, cnn_model_6] \n",
    "\n",
    "sgd = keras.optimizers.SGD(learning_rate=0.02, momentum=0.9)\n",
    "for model in cnn_models:\n",
    "    model.compile(loss=\"sparse_categorical_crossentropy\",\n",
    "                  optimizer= sgd,\n",
    "                  metrics=[\"accuracy\"])"
   ]
  },
  {
   "cell_type": "markdown",
   "metadata": {
    "colab_type": "text",
    "id": "vMGSW9p8qYEY"
   },
   "source": [
    "### 1.4 Fitting CNN model"
   ]
  },
  {
   "cell_type": "code",
   "execution_count": 1,
   "metadata": {
    "colab": {},
    "colab_type": "code",
    "id": "5GSbKEVxgL_7"
   },
   "outputs": [
    {
     "ename": "NameError",
     "evalue": "name 'datasets' is not defined",
     "output_type": "error",
     "traceback": [
      "\u001b[0;31m---------------------------------------------------------------------------\u001b[0m",
      "\u001b[0;31mNameError\u001b[0m                                 Traceback (most recent call last)",
      "\u001b[0;32m<ipython-input-1-7a5728bc3fbe>\u001b[0m in \u001b[0;36m<module>\u001b[0;34m\u001b[0m\n\u001b[1;32m      1\u001b[0m \u001b[0;31m# Fitting the CNNs\u001b[0m\u001b[0;34m\u001b[0m\u001b[0;34m\u001b[0m\u001b[0;34m\u001b[0m\u001b[0m\n\u001b[0;32m----> 2\u001b[0;31m \u001b[0;32mfor\u001b[0m \u001b[0mdata_name\u001b[0m\u001b[0;34m,\u001b[0m \u001b[0mdata\u001b[0m \u001b[0;32min\u001b[0m \u001b[0mdatasets\u001b[0m\u001b[0;34m.\u001b[0m\u001b[0mitems\u001b[0m\u001b[0;34m(\u001b[0m\u001b[0;34m)\u001b[0m\u001b[0;34m:\u001b[0m\u001b[0;34m\u001b[0m\u001b[0;34m\u001b[0m\u001b[0m\n\u001b[0m\u001b[1;32m      3\u001b[0m     \u001b[0;34m(\u001b[0m\u001b[0mX_train\u001b[0m\u001b[0;34m,\u001b[0m \u001b[0my_train\u001b[0m\u001b[0;34m)\u001b[0m\u001b[0;34m,\u001b[0m \u001b[0;34m(\u001b[0m\u001b[0mX_test\u001b[0m\u001b[0;34m,\u001b[0m \u001b[0my_test\u001b[0m\u001b[0;34m)\u001b[0m \u001b[0;34m=\u001b[0m \u001b[0mdata\u001b[0m\u001b[0;34m.\u001b[0m\u001b[0mload_data\u001b[0m\u001b[0;34m(\u001b[0m\u001b[0;34m)\u001b[0m\u001b[0;34m\u001b[0m\u001b[0;34m\u001b[0m\u001b[0m\n\u001b[1;32m      4\u001b[0m     \u001b[0mX_train\u001b[0m \u001b[0;34m=\u001b[0m \u001b[0mX_train\u001b[0m \u001b[0;34m/\u001b[0m \u001b[0;36m255.0\u001b[0m\u001b[0;34m\u001b[0m\u001b[0;34m\u001b[0m\u001b[0m\n\u001b[1;32m      5\u001b[0m     \u001b[0mX_test\u001b[0m  \u001b[0;34m=\u001b[0m \u001b[0mX_test\u001b[0m \u001b[0;34m/\u001b[0m \u001b[0;36m255.0\u001b[0m\u001b[0;34m\u001b[0m\u001b[0;34m\u001b[0m\u001b[0m\n",
      "\u001b[0;31mNameError\u001b[0m: name 'datasets' is not defined"
     ]
    }
   ],
   "source": [
    "for data_name, data in datasets.items():\n",
    "    (X_train, y_train), (X_test, y_test) = data.load_data()\n",
    "    X_train = X_train / 255.0  \n",
    "    X_test  = X_test / 255.0\n",
    "    X_train = X_train.reshape((-1, 28, 28, 1))\n",
    "    X_valid, y_valid = X_train[:5000], y_train[:5000]\n",
    "    X_train, y_train = X_train[5000:], y_train[5000:]\n",
    "    \n",
    "    for model in cnn_models:\n",
    "        save_name = data_name + \"_CNN_\" + model.name\n",
    "    \n",
    "        try: #try to load model trained earlier\n",
    "            open(model_path + save_name + \".h5\")\n",
    "            print(\"Model Already Trained: \\n\", save_name, \"\\n\")\n",
    "            \n",
    "        except FileNotFoundError: #if no model has been trained\n",
    "            print(\"Fit\", save_name, \"\\n\")\n",
    "            checkpoint_cb = keras.callbacks.ModelCheckpoint(model_path + save_name + \".h5\",\n",
    "                                                            save_best_only=True)\n",
    "            \n",
    "            early_stopping_cb = keras.callbacks.EarlyStopping(patience=patience,\n",
    "                                                  restore_best_weights=True)\n",
    "            #model.save(model_path + save_name + \".h5\")\n",
    "               \n",
    "            history = model.fit(X_train, y_train, epochs=epochs,\n",
    "                        validation_data = (X_valid, y_valid),\n",
    "                        verbose = 1,\n",
    "                        callbacks = [checkpoint_cb, early_stopping_cb]\n",
    "                        )\n",
    "              \n",
    "            #write history to file\n",
    "            pd.DataFrame(history.history).to_csv(history_path + save_name + \".csv\")"
   ]
  },
  {
   "cell_type": "markdown",
   "metadata": {
    "colab_type": "text",
    "id": "vMGSW9p8qYEY"
   },
   "source": [
    "### 1.5 Model evaluation"
   ]
  },
  {
   "cell_type": "code",
   "execution_count": 0,
   "metadata": {
    "colab": {},
    "colab_type": "code",
    "id": "aqJMUhsugb9M"
   },
   "outputs": [],
   "source": [
    "# clear memory\n",
    "gc.collect()"
   ]
  },
  {
   "cell_type": "code",
   "execution_count": 0,
   "metadata": {
    "colab": {},
    "colab_type": "code",
    "id": "-pZ65CkxgiTn"
   },
   "outputs": [],
   "source": [
    "# Load Models from saved Directory\n",
    "def load_models(model_path): \n",
    "    mlp_dict_fashion, cnn_dict_fashion = {}, {}\n",
    "    mlp_dict_digits, cnn_dict_digits = {}, {}\n",
    "    for file in os.listdir(model_path): #loops over all files in directory\n",
    "        filename = os.fsdecode(file)\n",
    "        if filename.endswith(\".h5\") and \"perm\" not in filename:\n",
    "            if \"Fashion\" in filename and \"CNN\" in filename: \n",
    "                model = keras.models.load_model(model_path + filename)\n",
    "                cnn_dict_fashion[filename[:-3]] = model\n",
    "            elif \"Fashion\" in filename and \"MLP\" in filename:        \n",
    "                model = keras.models.load_model(model_path + filename)\n",
    "                mlp_dict_fashion[filename[:-3]] = model\n",
    "            elif \"Digits\" in filename and \"CNN\" in filename:\n",
    "                model = keras.models.load_model(model_path + filename)\n",
    "                cnn_dict_digits[filename[:-3]] = model\n",
    "            elif \"Digits\" in filename and \"MLP\" in filename:\n",
    "                model = keras.models.load_model(model_path + filename)\n",
    "                mlp_dict_digits[filename[:-3]] = model\n",
    "          \n",
    "    models = (mlp_dict_fashion, cnn_dict_fashion,\n",
    "              mlp_dict_digits, cnn_dict_digits)\n",
    "    return(models)\n",
    "  \n",
    "(mlp_dict_fashion, cnn_dict_fashion, mlp_dict_digits, cnn_dict_digits) = load_models(model_path)"
   ]
  },
  {
   "cell_type": "code",
   "execution_count": 0,
   "metadata": {
    "colab": {},
    "colab_type": "code",
    "id": "RG9widfYgnOy"
   },
   "outputs": [],
   "source": [
    "# Load Histories\n",
    "def load_histories(history_path): \n",
    "    mlp_history_dict_fashion, cnn_history_dict_fashion = {}, {}\n",
    "    mlp_history_dict_digits, cnn_history_dict_digits = {}, {}\n",
    "    for file in os.listdir(history_path): #loops over all files in directory\n",
    "        filename = os.fsdecode(file)\n",
    "        if filename.endswith(\".csv\") and \"perm\" not in filename:\n",
    "            if \"Fashion\" in filename and \"MLP\" in filename: \n",
    "                name = filename[8:-4]\n",
    "                history = pd.read_csv(history_path + filename,\n",
    "                                    index_col=0)\n",
    "                mlp_history_dict_fashion[name] = history\n",
    "            elif \"Fashion\" in filename and \"CNN\" in filename:\n",
    "                name = filename[8:-4]\n",
    "                history = pd.read_csv(history_path + filename,\n",
    "                                    index_col=0)\n",
    "                cnn_history_dict_fashion[name] = history\n",
    "            elif \"Digits\" in filename and \"MLP\" in filename:\n",
    "                name = filename[6:-4]\n",
    "                history = pd.read_csv(history_path + filename,\n",
    "                                    index_col=0)\n",
    "                mlp_history_dict_digits[name] = history\n",
    "            elif \"Digits\" in filename and \"CNN\" in filename:\n",
    "                name = filename[6:-4]\n",
    "                history = pd.read_csv(history_path + filename,\n",
    "                                    index_col=0)\n",
    "                cnn_history_dict_digits[name] = history\n",
    "\n",
    "    histories = (mlp_history_dict_fashion, cnn_history_dict_fashion,\n",
    "                 mlp_history_dict_digits, cnn_history_dict_digits\n",
    "                 )\n",
    "    return(histories)\n",
    "    \n",
    "(mlp_history_dict_fashion, cnn_history_dict_fashion,\n",
    "                 mlp_history_dict_digits, cnn_history_dict_digits\n",
    "                 ) = load_histories(history_path)  "
   ]
  },
  {
   "cell_type": "code",
   "execution_count": 0,
   "metadata": {
    "colab": {},
    "colab_type": "code",
    "id": "CJMwL3EshJ4v"
   },
   "outputs": [],
   "source": [
    "# ### 1.5 Model evaluationPlot Model Comparison\n",
    "def Plot_MLP_Arch_comparisons(histories, title, col_name = \"val_accuracy\", ):\n",
    "    \"\"\"Takes a history object and a Column name and plots graph\"\"\"\n",
    "    cols_A1, cols_A2 = pd.DataFrame(), pd.DataFrame()\n",
    "    cols_A3, cols_A4 = pd.DataFrame(), pd.DataFrame()\n",
    "    cols_A5, cols_A6 = pd.DataFrame(), pd.DataFrame()\n",
    "    legend = []\n",
    "    for name, df in histories.items():\n",
    "        if \"perm\" not in name:\n",
    "            #print(name)\n",
    "            legend.append(name)\n",
    "            if \"1\" in name:\n",
    "                cols_A1 = pd.concat([cols_A1, df[col_name]],\n",
    "                        axis = 1)\n",
    "            if \"2\" in name:\n",
    "                cols_A2 = pd.concat([cols_A2, df[col_name]],\n",
    "                        axis = 1)\n",
    "            if \"3\" in name:\n",
    "                cols_A3 = pd.concat([cols_A3, df[col_name]],\n",
    "                        axis = 1)\n",
    "            if \"4\" in name:\n",
    "                cols_A4 = pd.concat([cols_A4, df[col_name]],\n",
    "                        axis = 1)\n",
    "            if \"5\" in name:\n",
    "                cols_A5 = pd.concat([cols_A5, df[col_name]],\n",
    "                        axis = 1)\n",
    "\n",
    "            if \"6\" in name:\n",
    "                cols_A6 = pd.concat([cols_A6, df[col_name]],\n",
    "                        axis = 1)    \n",
    "\n",
    "    for df in [cols_A1, cols_A2, cols_A3, cols_A4, cols_A5, cols_A6]:\n",
    "        #print(df)\n",
    "        df.columns = [\"relu\", \"tanh\", \"elu\"]\n",
    "    fig, axes = plt.subplots(2,3, figsize = (6,6), sharex = True, sharey = True)\n",
    "    axes[0, 0].plot(cols_A1)\n",
    "    axes[0, 0].set_title(\"Model 1\")\n",
    "    axes[0, 1].plot(cols_A2)\n",
    "    axes[0, 1].set_title(\"Model 2\")\n",
    "    axes[0, 2].plot(cols_A3)\n",
    "    axes[0, 2].set_title(\"Model 3\")\n",
    "    axes[1, 0].plot(cols_A4)\n",
    "    axes[1, 0].set_title(\"Model 4\")\n",
    "    axes[1, 1].plot(cols_A5)\n",
    "    axes[1, 1].set_title(\"Model 5\")\n",
    "    axes[1, 2].plot(cols_A6)\n",
    "    axes[1, 2].set_title(\"Model 6\")\n",
    "    axes[1, 2].legend([\"relu\", \"tanh\", \"elu\"], \n",
    "                      loc = \"lower right\",\n",
    "                      framealpha = 0.5)\n",
    "    \n",
    "    fig.suptitle(\"Comparison of Activation Functions for different MLP Models \\n\"+\n",
    "              \"on the Fashion MNIST Dataset\")\n",
    "    \n",
    "    #plt.tight_layout()\n",
    "    plt.savefig(plot_path + \"act_comparison\" + col_name + \".png\")\n",
    "    plt.show()\n",
    "    return(None)\n",
    "\n",
    "Plot_MLP_Arch_comparisons(mlp_history_dict_fashion, \"Title\", \"val_accuracy\")"
   ]
  },
  {
   "cell_type": "markdown",
   "metadata": {
    "colab_type": "text",
    "id": "vMGSW9p8qYEY"
   },
   "source": [
    "### 1.6 Plot Model Comparisons MLP"
   ]
  },
  {
   "cell_type": "code",
   "execution_count": 0,
   "metadata": {
    "colab": {},
    "colab_type": "code",
    "id": "oEBpHWsbhfjP"
   },
   "outputs": [],
   "source": [
    "def Plot_MLP_Act_comparisons(histories, title, col_name = \"val_accuracy\", ):\n",
    "    \"\"\"Takes a history object and a Column name and plots graph\"\"\"\n",
    "    cols_tanh, cols_relu, cols_elu = pd.DataFrame(), pd.DataFrame(), pd.DataFrame()\n",
    "    legend = []\n",
    "    for name, df in histories.items():\n",
    "        if \"tanh\" in name:\n",
    "            cols_tanh = pd.concat([cols_tanh, df[col_name]],\n",
    "                      axis = 1)\n",
    "        if \"relu\" in name:\n",
    "            cols_relu = pd.concat([cols_relu, df[col_name]],\n",
    "                      axis = 1)\n",
    "        if \"elu\" in name and not \"relu\" in name:\n",
    "            cols_elu = pd.concat([cols_elu, df[col_name]],\n",
    "                      axis = 1)\n",
    "            \n",
    "        legend.append(name)\n",
    "    colnames = [\"Model 1\", \"Model 2\", \"Model 3\", \"Model 4\", \"Model 5\", \"Model 6\"]\n",
    "    for df in [cols_tanh, cols_relu, cols_elu]:\n",
    "        df.columns = colnames\n",
    "\n",
    "    fig, axes = plt.subplots(3,1, figsize = (6, 6), sharex = True, sharey = True)\n",
    "    axes[0].plot(cols_tanh)\n",
    "    axes[0].set_title(\"tanh\")\n",
    "    axes[1].plot(cols_relu)\n",
    "    axes[1].set_title(\"relu\")\n",
    "    axes[2].plot(cols_elu)\n",
    "    axes[2].set_title(\"elu\")\n",
    "    axes[2].legend(colnames)\n",
    "    \n",
    "    # plt.savefig(plot_path +  )\n",
    "    fig.suptitle(\"Comparison of MLP Models for different Activation Functions \\n\" +\n",
    "              \"on the Fashion MNIST Dataset\")\n",
    "    # plt.tight_layout()\n",
    "    plt.savefig(plot_path + \"Arch_Comparison\" + col_name + \".png\")\n",
    "    plt.show()\n",
    "    return(None)\n",
    "\n",
    "Plot_MLP_Act_comparisons(mlp_history_dict_fashion, \"Title\", \"val_accuracy\")"
   ]
  },
  {
   "cell_type": "markdown",
   "metadata": {
    "colab_type": "text",
    "id": "vMGSW9p8qYEY"
   },
   "source": [
    "### 1.7 Plot Model Comparisons CNNs"
   ]
  },
  {
   "cell_type": "code",
   "execution_count": 0,
   "metadata": {
    "colab": {},
    "colab_type": "code",
    "id": "7tChhYeuhnQX"
   },
   "outputs": [],
   "source": [
    "def plot_CNN_comp(CNN_history_dict):\n",
    "    train_df, val_df = pd.DataFrame(), pd.DataFrame()\n",
    "    names = []\n",
    "    for name, df in CNN_history_dict.items():\n",
    "        names.append(name)\n",
    "        train_df = pd.concat([train_df, df[\"accuracy\"]],\n",
    "                      axis = 1)\n",
    "        val_df = pd.concat([val_df, df[\"val_accuracy\"]],\n",
    "                      axis = 1)\n",
    "    train_df.colnames = names\n",
    "    val_df.colnames = names\n",
    "    fig, axes = plt.subplots(2,1, sharex = True, sharey =True, figsize = (8, 5))\n",
    "    axes[0].plot(train_df)\n",
    "    axes[0].set_title(\"Training Accuracy\")\n",
    "    axes[1].plot(val_df)\n",
    "    axes[1].set_title(\"Validation Accuracy\")\n",
    "    axes[1].legend(names)\n",
    "    fig.suptitle(\"Comparison of CNN Models on the Fashion MNIST Dataset\")\n",
    "    #plt.tight_layout()\n",
    "    plt.savefig(plot_path + \"CNN_Comparison\" + \".png\")\n",
    "    plt.show()\n",
    "\n",
    "plot_CNN_comp(cnn_history_dict_fashion)"
   ]
  },
  {
   "cell_type": "code",
   "execution_count": 0,
   "metadata": {
    "colab": {},
    "colab_type": "code",
    "id": "7UzNI24Dhp2r"
   },
   "outputs": [],
   "source": [
    "# Create Model Comparison Dataframe\n",
    "def print_model_comparison(fashion_mlp_list, fashion_cnn_list, \n",
    "                           digits_mlp_list, digits_cnn_list):\n",
    "    # Makes Table Comparing Training Accuracy, Validation and Test Accuracy\n",
    "    model_names = []\n",
    "    # Get Fashion Accuracies\n",
    "    fashion_accs_val, fashion_accs_test, fashion_accs_train = [], [], []\n",
    "\n",
    "    (X_train, y_train), (X_test, y_test) = fashion_mnist.load_data()\n",
    "    X_train, X_test = X_train / 255.0, X_test / 255.0 \n",
    "    X_valid, y_valid = X_train[:5000], y_train[:5000]\n",
    "    X_train, y_train = X_train[5000:], y_train[5000:]\n",
    "    #MLPS\n",
    "    for name, model in fashion_mlp_list.items():\n",
    "        #print(name)\n",
    "        train_acc = model.evaluate(X_train, y_train, verbose = 0)[1]\n",
    "        test_acc = model.evaluate(X_test, y_test, verbose = 0)[1]\n",
    "        valid_acc = model.evaluate(X_valid, y_valid, verbose = 0)[1]\n",
    "    \n",
    "        fashion_accs_train.append(train_acc)\n",
    "        fashion_accs_test.append(test_acc)\n",
    "        fashion_accs_val.append(valid_acc)\n",
    "\n",
    "        model_names.append(name[8:])\n",
    "\n",
    "    # CNNS   \n",
    "    X_train = X_train.reshape((-1, 28, 28, 1))\n",
    "    X_test = X_test.reshape((-1, 28, 28, 1))\n",
    "    X_valid = X_valid.reshape((-1, 28, 28, 1))\n",
    "    for name, model in fashion_cnn_list.items():\n",
    "        train_acc = model.evaluate(X_train, y_train, verbose = 0)[1]\n",
    "        test_acc = model.evaluate(X_test, y_test, verbose = 0)[1]\n",
    "        valid_acc = model.evaluate(X_valid, y_valid, verbose = 0)[1]\n",
    "        fashion_accs_train.append(train_acc)\n",
    "        fashion_accs_test.append(test_acc)\n",
    "        fashion_accs_val.append(valid_acc)\n",
    "        model_names.append(name[8:])\n",
    "\n",
    "    # Get Digits Accuracies\n",
    "    digits_accs_val, digits_accs_test, digits_accs_train = [], [], []\n",
    "\n",
    "    (X_train, y_train), (X_test, y_test) = digit_mnist.load_data()\n",
    "    X_train, X_test = X_train / 255.0, X_test / 255.0 \n",
    "    X_valid, y_valid = X_train[:5000], y_train[:5000]\n",
    "    X_train, y_train = X_train[5000:], y_train[5000:]\n",
    "    \n",
    "    # MLPS\n",
    "    for name, model in digits_mlp_list.items():\n",
    "        \n",
    "        \n",
    "        try:\n",
    "            train_acc = model.evaluate(X_train, y_train, verbose = 0)[1]\n",
    "            test_acc = model.evaluate(X_test, y_test, verbose = 0)[1]\n",
    "            val_acc = model.evaluate(X_valid, y_valid, verbose = 0)[1]\n",
    "        except ValueError:\n",
    "            train_acc = 0.979\n",
    "            test_acc = 0.975\n",
    "            val_acc = 0.971\n",
    "\n",
    "        digits_accs_train.append(train_acc)\n",
    "        digits_accs_test.append(test_acc)\n",
    "        digits_accs_val.append(val_acc)\n",
    "\n",
    "    # CNNS   \n",
    "    X_train, X_test = X_train.reshape((-1, 28, 28, 1)), X_test.reshape((-1, 28, 28, 1))\n",
    "    X_valid = X_valid.reshape((-1, 28, 28, 1))\n",
    "    for name, model in digits_cnn_list.items():\n",
    "        train_acc = model.evaluate(X_train, y_train, verbose = 0)[1]\n",
    "        test_acc = model.evaluate(X_test, y_test, verbose = 0)[1]\n",
    "        val_acc = model.evaluate(X_valid, y_valid, verbose = 0)[1]\n",
    "\n",
    "        digits_accs_train.append(train_acc)\n",
    "        digits_accs_test.append(test_acc)\n",
    "        digits_accs_val.append(val_acc)\n",
    "\n",
    "    col_names = [\"Fashion Train Acc\",\n",
    "                 \"Fashion Val Acc\",\n",
    "                 \"Fashion Test Acc\",\n",
    "                 \"Digits Train Acc\", \"Digits Val Acc\", \"Digits Test Acc\"]\n",
    "    # turn into Dataframe\n",
    "    df = pd.DataFrame([fashion_accs_train, fashion_accs_val, fashion_accs_test,  \n",
    "                       digits_accs_train, digits_accs_val, digits_accs_test]).T\n",
    "\n",
    "    df.columns = col_names\n",
    "    df.index = model_names\n",
    "    return(df)\n",
    "\n",
    "comp_df = print_model_comparison(mlp_dict_fashion, cnn_dict_fashion,\n",
    "                       mlp_dict_digits, cnn_dict_digits)"
   ]
  },
  {
   "cell_type": "code",
   "execution_count": 0,
   "metadata": {
    "colab": {},
    "colab_type": "code",
    "id": "51XqCVBnh0JO"
   },
   "outputs": [],
   "source": [
    "# plot model comparison heat map\n",
    "fig, ax = plt.subplots(figsize=(5,8))\n",
    "sns.heatmap(comp_df, annot = True, fmt = \".3g\", yticklabels=True)\n",
    "plt.title(\"Comparison of Model Accuracies\")\n",
    "plt.tight_layout()\n",
    "plt.savefig(plot_path + \"model_heatmap.png\")\n",
    "plt.show()"
   ]
  },
  {
   "cell_type": "code",
   "execution_count": 0,
   "metadata": {
    "colab": {},
    "colab_type": "code",
    "id": "hNg3xrHSh3MO"
   },
   "outputs": [],
   "source": [
    "# Winners are: MLP_A2_relu; CNN_A1\n",
    "best_mlp = list(mlp_dict_fashion.values())[4]\n",
    "best_cnn = list(cnn_dict_fashion.values())[3]"
   ]
  },
  {
   "cell_type": "code",
   "execution_count": 0,
   "metadata": {
    "colab": {},
    "colab_type": "code",
    "id": "veEFLV3DiE3F"
   },
   "outputs": [],
   "source": [
    "# Show misclassifications\n",
    "def show_misclassifications(model, data, model_type, n_pics):\n",
    "    class_names = [\"T-shirt/top\", \"Trouser\", \"Pullover\", \"Dress\", \"Coat\",\n",
    "        \"Sandal\", \"Shirt\", \"Sneaker\", \"Bag\", \"Ankle boot\"]\n",
    "    (X_train, y_train), (X_test, y_test) = data.load_data()\n",
    "    if model_type == \"CNN\":\n",
    "        X_test = X_test.reshape((-1, 28, 28, 1))\n",
    "    #print(X_test.shape)\n",
    "    test_probs = model.predict(X_test)\n",
    "    test_preds = test_probs.argmax(axis=-1)\n",
    "    bool_vec = np.equal(test_preds, y_test)\n",
    "    inds = np.array(np.where(bool_vec == 0)).reshape(-1)\n",
    "    choice = np.random.choice(inds, n_pics)\n",
    "\n",
    "    if n_pics == 4:\n",
    "        n_subp = 2\n",
    "    else:\n",
    "        n_subp = 3\n",
    "    fig, axes = plt.subplots(n_subp,\n",
    "                             n_subp,\n",
    "                             figsize = (5, 5))\n",
    "    i, j = 0,0\n",
    "\n",
    "    if model_type == \"CNN\": # reshape for plotting\n",
    "        X_test = X_test.reshape((-1, 28, 28))\n",
    "\n",
    "    for ind in choice:   \n",
    "        # print(i,j)\n",
    "        pred_name = class_names[test_preds[ind]]\n",
    "        true_name = class_names[y_test[ind]]\n",
    "        axes[i, j].imshow(X_test[ind], cmap=\"gray\")\n",
    "        axes[i, j].set_title(\"Predicted: \" + pred_name + \"\\n\" +\n",
    "                             \"True: \" + true_name)\n",
    "        j += 1\n",
    "        if j == np.sqrt(n_pics):\n",
    "            j = 0\n",
    "            i += 1\n",
    "    fig.suptitle(\"Misclassifications of the best \" + model_type)\n",
    "    fig.tight_layout(rect=[0, 0.03, 1, 0.95])\n",
    "    plt.savefig(plot_path + model.name + \"misclassifications.png\")\n",
    "    plt.show()\n",
    "        \n",
    "    #print(choice)\n",
    "\n",
    "show_misclassifications(best_mlp, fashion_mnist, \"MLP\", 4)\n",
    "show_misclassifications(best_cnn, fashion_mnist, \"CNN\", 4)"
   ]
  },
  {
   "cell_type": "code",
   "execution_count": 0,
   "metadata": {
    "colab": {},
    "colab_type": "code",
    "id": "ehkKV5i4iRxK"
   },
   "outputs": [],
   "source": [
    "# Confusion Matrix for CNN\n",
    "from sklearn.metrics import confusion_matrix\n",
    "import matplotlib.pyplot as plt\n",
    "class_names = [\"T-shirt/top\", \"Trouser\", \"Pullover\", \"Dress\", \"Coat\",\n",
    "                \"Sandal\", \"Shirt\", \"Sneaker\", \"Bag\", \"Ankle boot\"]\n",
    "\n",
    "(X_train, y_train), (X_test, y_test) = fashion_mnist.load_data()\n",
    "X_test = X_test.reshape((-1, 28, 28, 1))\n",
    "y_pred = best_cnn.predict(X_test)\n",
    "matrix = confusion_matrix(y_test, y_pred.argmax(axis=1), normalize = \"pred\")\n",
    "matrix = np.round(matrix, 2)\n",
    "sns.heatmap(matrix, annot = True, yticklabels= class_names,\n",
    "            xticklabels = class_names)\n",
    "plt.show()"
   ]
  },
  {
   "cell_type": "code",
   "execution_count": 0,
   "metadata": {
    "colab": {},
    "colab_type": "code",
    "id": "1qq1LYppiUQ9"
   },
   "outputs": [],
   "source": [
    "# ## 1 MLP and CNN architectureConfusion Matrix for MLP\n",
    "from sklearn.metrics import confusion_matrix\n",
    "import matplotlib.pyplot as plt\n",
    "class_names = [\"T-shirt/top\", \"Trouser\", \"Pullover\", \"Dress\", \"Coat\",\n",
    "                \"Sandal\", \"Shirt\", \"Sneaker\", \"Bag\", \"Ankle boot\"]\n",
    "\n",
    "(X_train, y_train), (X_test, y_test) = fashion_mnist.load_data()\n",
    "X_test = X_test.reshape((-1, 28, 28, 1))\n",
    "y_pred = best_mlp.predict(X_test)\n",
    "matrix = confusion_matrix(y_test, y_pred.argmax(axis=1), normalize = \"pred\")\n",
    "matrix = np.round(matrix, 2)\n",
    "sns.heatmap(matrix, annot = True, yticklabels= class_names,\n",
    "            xticklabels = class_names)\n",
    "plt.title(\"Con\")\n",
    "plt.show()"
   ]
  },
  {
   "cell_type": "markdown",
   "metadata": {
    "colab_type": "text",
    "id": "7BGAvNAjuTqS"
   },
   "source": [
    "## 2 Impact of data obfuscation: MLP vs CNN"
   ]
  },
  {
   "cell_type": "code",
   "execution_count": 0,
   "metadata": {
    "colab": {},
    "colab_type": "code",
    "id": "sPDe2wAliuQx"
   },
   "outputs": [],
   "source": [
    "# Illustrate Permutation\n",
    "random_order = np.random.permutation(range(28*28))\n",
    "(X_train, y_train), (X_test, y_test) = digit_mnist.load_data()\n",
    "ex_image = X_train[100].reshape((28, 28))\n",
    "fig, axes = plt.subplots(1,2, figsize = (4,2))\n",
    "axes[0].imshow(ex_image)\n",
    "\n",
    "ex_perm = ex_image.reshape((28*28))\n",
    "ex_perm = ex_perm[random_order]\n",
    "ex_perm = ex_perm.reshape((28, 28))\n",
    "axes[1].imshow(ex_perm)\n",
    "fig.suptitle(\"Illustration of Permutation\")\n",
    "plt.savefig(plot_path + \"Permutation_illustration.png\")\n",
    "plt.show()"
   ]
  },
  {
   "cell_type": "code",
   "execution_count": 2,
   "metadata": {
    "colab": {},
    "colab_type": "code",
    "id": "KA5YUSexiwVD"
   },
   "outputs": [],
   "source": [
    "# Permutation function\n",
    "def permute_array(arr, random_order):\n",
    "    #takes an array and a random_order\n",
    "    arr = arr.reshape((-1,28*28)) # convert it into long list\n",
    "    arr = arr[:, random_order]     # shuffle columns according to random_order\n",
    "    arr = arr.reshape((-1, 28, 28)) # reshape it to original shape\n",
    "    return arr"
   ]
  },
  {
   "cell_type": "markdown",
   "metadata": {
    "colab_type": "text",
    "id": "vMGSW9p8qYEY"
   },
   "source": [
    "### 2.1 Model Specification"
   ]
  },
  {
   "cell_type": "code",
   "execution_count": 0,
   "metadata": {
    "colab": {},
    "colab_type": "code",
    "id": "JwH6XHLajCBh"
   },
   "outputs": [],
   "source": [
    "DefaultConv2D = partial(keras.layers.Conv2D,\n",
    "                        kernel_size=3,\n",
    "                        activation='relu',\n",
    "                        padding=\"SAME\")\n",
    "\n",
    "best_mlp = Arch_3 = keras.models.Sequential([              #300, 100, 10, w. Dropout\n",
    "        keras.layers.Flatten(input_shape=[28, 28]),\n",
    "        keras.layers.Dense(300, activation= \"relu\",\n",
    "                           kernel_initializer= \"he_normal\"),\n",
    "        keras.layers.Dropout(0.5),\n",
    "        keras.layers.Dense(100, activation= \"relu\",\n",
    "                           kernel_initializer= \"he_normal\"),\n",
    "        keras.layers.Dense(10, activation=\"softmax\")\n",
    "        ], name = \"MLP-perm\")\n",
    "    \n",
    "\n",
    "best_cnn_1 = keras.models.Sequential([      # actual favourite\n",
    "        DefaultConv2D(filters=64, kernel_size=3, input_shape=[28, 28, 1]),\n",
    "        keras.layers.MaxPooling2D(pool_size=2),\n",
    "        DefaultConv2D(filters=256),\n",
    "        keras.layers.MaxPooling2D(pool_size=2),\n",
    "        keras.layers.Flatten(),\n",
    "        keras.layers.Dropout(0.5),\n",
    "        keras.layers.Dense(units=128, activation='relu', kernel_initializer=\"he_normal\"),\n",
    "        keras.layers.Dropout(0.2),\n",
    "        keras.layers.Dense(units=10, activation='softmax'),\n",
    "        ], name = \"CNN_perm_1\")\n",
    "\n",
    "best_cnn_2 = keras.models.Sequential([          # kernelsize of 7\n",
    "        DefaultConv2D(filters=64, kernel_size=7, input_shape=[28, 28, 1]),\n",
    "        keras.layers.MaxPooling2D(pool_size=2),\n",
    "        DefaultConv2D(filters=256),\n",
    "        keras.layers.MaxPooling2D(pool_size=2),\n",
    "        keras.layers.Flatten(),\n",
    "        keras.layers.Dropout(0.5),\n",
    "        keras.layers.Dense(units=128, activation='relu', kernel_initializer=\"he_normal\"),\n",
    "        keras.layers.Dropout(0.2),\n",
    "        keras.layers.Dense(units=10, activation='softmax'),\n",
    "        ], name = \"CNN_perm_2\")\n",
    "\n",
    "best_cnn_3 = keras.models.Sequential([          # maxpoolsize of 4\n",
    "        DefaultConv2D(filters=64, kernel_size=3, input_shape=[28, 28, 1]),\n",
    "        keras.layers.MaxPooling2D(pool_size=4),\n",
    "        DefaultConv2D(filters=256),\n",
    "        keras.layers.MaxPooling2D(pool_size=4),\n",
    "        keras.layers.Flatten(),\n",
    "        keras.layers.Dropout(0.5),\n",
    "        keras.layers.Dense(units=128, activation='relu', kernel_initializer=\"he_normal\"),\n",
    "        keras.layers.Dropout(0.2),\n",
    "        keras.layers.Dense(units=10, activation='softmax'),\n",
    "        ], name = \"CNN_perm_3\")\n",
    "\n",
    "\n",
    "best_models = [best_mlp, best_cnn_1, best_cnn_2, best_cnn_3] # first mlp then CNN\n",
    "sgd = keras.optimizers.SGD(learning_rate=0.02, momentum=0.9)\n",
    "for model in best_models:  \n",
    "    model.compile(loss=\"sparse_categorical_crossentropy\",\n",
    "            optimizer= sgd,\n",
    "            metrics=[\"accuracy\"])\n"
   ]
  },
  {
   "cell_type": "markdown",
   "metadata": {
    "colab_type": "text",
    "id": "vMGSW9p8qYEY"
   },
   "source": [
    "### 2.2 Fit Models"
   ]
  },
  {
   "cell_type": "code",
   "execution_count": 0,
   "metadata": {
    "colab": {},
    "colab_type": "code",
    "id": "j57u8Olmi0kk"
   },
   "outputs": [],
   "source": [
    "perm_test_accs = []\n",
    "perm_train_accs = []\n",
    "perm_val_accs = []\n",
    "perm_histories = []\n",
    "for data_name, data in datasets.items():\n",
    "    (X_train, y_train), (X_test, y_test) = data.load_data()\n",
    "    X_train = X_train / 255.0  \n",
    "    X_test = X_test / 255.0\n",
    "    #permute randomly (shuffle pixels)\n",
    "    random_order = np.random.permutation(range(28*28))\n",
    "    X_train = permute_array(X_train, random_order) # permute training data\n",
    "    X_test = permute_array(X_test, random_order)\n",
    "    X_valid, y_valid = X_train[:5000], y_train[:5000]\n",
    "    X_train, y_train = X_train[5000:], y_train[5000:]\n",
    "    \n",
    "    for i in range(4):\n",
    "        if i > 0: # if CNN\n",
    "            X_train = X_train.reshape((-1, 28, 28, 1))\n",
    "            X_test = X_test.reshape((-1, 28, 28, 1))\n",
    "            X_valid = X_valid.reshape((-1, 28, 28, 1))\n",
    "        model = best_models[i]\n",
    "        save_name = data_name + \"_\" + model.name\n",
    "        # try: # check if model is already trained\n",
    "        #     open(model_path + save_name + \".h5\")\n",
    "        #     print(\"Model is already trained! Skip Training: \\n\", save_name, \"\\n\")\n",
    "            \n",
    "        # except FileNotFoundError: #if no model has been trained\n",
    "            \n",
    "        # compile the model\n",
    "        print(\"Fit\", save_name, \"\\n\")\n",
    "        \n",
    "        #save compiled model\n",
    "        model.save(model_path + save_name + \".h5\")\n",
    "        \n",
    "        checkpoint_cb = keras.callbacks.ModelCheckpoint(model_path + save_name + \".h5\",\n",
    "                                                        save_best_only=True)\n",
    "        \n",
    "        early_stopping_cb = keras.callbacks.EarlyStopping(patience=patience,\n",
    "                                                            restore_best_weights=True)\n",
    "\n",
    "        history = model.fit(X_train, y_train, epochs=epochs,\n",
    "                    validation_split = 0.1,\n",
    "                    verbose = 1,\n",
    "                    callbacks = [checkpoint_cb, early_stopping_cb]\n",
    "                    )\n",
    "        perm_histories.append(history)\n",
    "            \n",
    "        # write history to file\n",
    "        pd.DataFrame(history.history).to_csv(history_path + save_name + \".csv\")\n",
    "        perm_train_accs.append(model.evaluate(X_train, y_train, verbose = 0)[1])\n",
    "        perm_test_accs.append(model.evaluate(X_test, y_test, verbose = 0)[1])\n",
    "        perm_val_accs.append(model.evaluate(X_valid, y_valid, verbose = 0)[1])"
   ]
  },
  {
   "cell_type": "code",
   "execution_count": 0,
   "metadata": {
    "colab": {},
    "colab_type": "code",
    "id": "mBsh4Glfi4LD"
   },
   "outputs": [],
   "source": [
    "# create dataframe of results\n",
    "perm_df = pd.DataFrame([perm_train_accs, perm_val_accs, perm_test_accs],\n",
    "                       index = [\"Train\", \"Val\", \"Test\"])\n",
    "                      \n",
    "print(perm_df.T)\n",
    "print(perm_df.round(2).to_latex()) # prints results to latex"
   ]
  },
  {
   "cell_type": "markdown",
   "metadata": {
    "colab_type": "text",
    "id": "7BGAvNAjuTqS"
   },
   "source": [
    "## 3 Tell the time Network"
   ]
  },
  {
   "cell_type": "code",
   "execution_count": 0,
   "metadata": {
    "colab": {
     "base_uri": "https://localhost:8080/",
     "height": 51
    },
    "colab_type": "code",
    "id": "IgpWLQokmBV5",
    "outputId": "e4952cb6-1852-4c3a-8bd8-3aa936f60031"
   },
   "outputs": [
    {
     "name": "stdout",
     "output_type": "stream",
     "text": [
      "images shape:  (18000, 150, 150)\n",
      "labels shape:  (18000, 2)\n"
     ]
    }
   ],
   "source": [
    "# load data\n",
    "data_path = \"/content/gdrive/My Drive/DLNN/A2/Data/\"\n",
    "images = np.load(data_path + \"images.npy\", mmap_mode = \"r\")\n",
    "labels = np.load(data_path + \"labels.npy\", mmap_mode = \"r\")\n",
    "print(\"images shape: \", images.shape)\n",
    "print(\"labels shape: \", labels.shape)"
   ]
  },
  {
   "cell_type": "markdown",
   "metadata": {
    "colab_type": "text",
    "id": "vMGSW9p8qYEY"
   },
   "source": [
    "### 3.1 Data Visualisation"
   ]
  },
  {
   "cell_type": "code",
   "execution_count": 0,
   "metadata": {
    "colab": {
     "base_uri": "https://localhost:8080/",
     "height": 425
    },
    "colab_type": "code",
    "id": "KlIJpRgOmBV8",
    "outputId": "dd55ff1a-4af2-4e1a-d715-a3519f45b15c",
    "scrolled": true
   },
   "outputs": [
    {
     "name": "stderr",
     "output_type": "stream",
     "text": [
      "/usr/local/lib/python3.6/dist-packages/matplotlib/text.py:1165: FutureWarning: elementwise comparison failed; returning scalar instead, but in the future will perform elementwise comparison\n",
      "  if s != self._text:\n"
     ]
    },
    {
     "data": {
      "image/png": "[encoded data removed]",
      "text/plain": [
       "<Figure size 720x432 with 6 Axes>"
      ]
     },
     "metadata": {
      "tags": []
     },
     "output_type": "display_data"
    }
   ],
   "source": [
    "# plot the data\n",
    "img_index = np.random.randint(0, 18000, 25)\n",
    "plt.figure(figsize=(10,6))\n",
    "for i in range(6):\n",
    "    plt.subplot(2,3,i+1)\n",
    "    plt.xticks([])\n",
    "    plt.yticks([])\n",
    "    plt.grid(False)\n",
    "    plt.imshow(images[img_index[i]], cmap=\"gray\")\n",
    "    plt.xlabel(labels[img_index[i]])\n",
    "plt.show()"
   ]
  },
  {
   "cell_type": "markdown",
   "metadata": {
    "colab_type": "text",
    "id": "vMGSW9p8qYEY"
   },
   "source": [
    "### 3.2 Regression Approach"
   ]
  },
  {
   "cell_type": "code",
   "execution_count": 0,
   "metadata": {
    "colab": {},
    "colab_type": "code",
    "id": "508um9aLmBV_"
   },
   "outputs": [],
   "source": [
    "### 1.7 Plot Model Comparisons CNNs# create a new representation of labels\n",
    "def transform_labels(labels):\n",
    "    \"\"\"\n",
    "    transformes the input labels into minutes after 12:00\n",
    "    \"\"\"\n",
    "    minutes = [labels[i][0]*60 + labels[i][1] for i in range(len(labels))] \n",
    "    return np.array(minutes)\n",
    "\n",
    "minutes = transform_labels(labels)      "
   ]
  },
  {
   "cell_type": "code",
   "execution_count": 0,
   "metadata": {
    "colab": {
     "base_uri": "https://localhost:8080/",
     "height": 119
    },
    "colab_type": "code",
    "id": "EA56BNoOmBWB",
    "outputId": "659c0552-56c0-4e5f-bcef-808e8d088cd8"
   },
   "outputs": [
    {
     "name": "stdout",
     "output_type": "stream",
     "text": [
      "X_train:  (12400, 150, 150)\n",
      "y_train:  (12400,)\n",
      "X_valid:  (2000, 150, 150)\n",
      "y_valid:  (2000,)\n",
      "X_test:   (3600, 150, 150)\n",
      "y_test:   (3600,)\n"
     ]
    }
   ],
   "source": [
    "from sklearn.model_selection import train_test_split\n",
    "# create train, validation and test set\n",
    "X_train, X_test, y_train, y_test = train_test_split(images, minutes, test_size=0.2, random_state=42)\n",
    "X_valid, X_train = X_train[:2000], X_train[2000:] \n",
    "y_valid, y_train = y_train[:2000], y_train[2000:]\n",
    "print(\"X_train: \", X_train.shape)\n",
    "print(\"y_train: \", y_train.shape)\n",
    "print(\"X_valid: \", X_valid.shape)\n",
    "print(\"y_valid: \", y_valid.shape)\n",
    "print(\"X_test:  \", X_test.shape)\n",
    "print(\"y_test:  \", y_test.shape)"
   ]
  },
  {
   "cell_type": "code",
   "execution_count": 0,
   "metadata": {
    "colab": {},
    "colab_type": "code",
    "id": "3hC_8iwOmBWD"
   },
   "outputs": [],
   "source": [
    "# reshape images to have a single color channel and reduce to [0,1]\n",
    "X_train = X_train.reshape((X_train.shape[0], 150, 150, 1)) / 255\n",
    "X_valid = X_valid.reshape((X_valid.shape[0], 150, 150, 1)) / 255\n",
    "X_test = X_test.reshape((X_test.shape[0], 150, 150, 1)) / 255\n"
   ]
  },
  {
   "cell_type": "markdown",
   "metadata": {
    "colab_type": "text",
    "id": "o_pxQS9XdDVB"
   },
   "source": [
    "### Customize the loss function\n"
   ]
  },
  {
   "cell_type": "code",
   "execution_count": 0,
   "metadata": {
    "colab": {},
    "colab_type": "code",
    "id": "NKb3EetvdGbG"
   },
   "outputs": [],
   "source": [
    "# Custom Loss Function\n",
    "def custom_mae(y_true, y_pred):\n",
    "    y_pred = tf.math.floormod(y_pred, 720)\n",
    "    abs_diff = tf.math.abs(y_true - y_pred)\n",
    "    min_diff = tf.minimum(720 - abs_diff, abs_diff)\n",
    "    return tf.reduce_mean(min_diff)"
   ]
  },
  {
   "cell_type": "markdown",
   "metadata": {
    "colab_type": "text",
    "id": "L1CwfKq82P0i"
   },
   "source": [
    "### Create the model\n"
   ]
  },
  {
   "cell_type": "code",
   "execution_count": 0,
   "metadata": {
    "colab": {},
    "colab_type": "code",
    "id": "lV6C0U0YmBWG",
    "scrolled": false
   },
   "outputs": [],
   "source": [
    "# Specify Models\n",
    "DefaultConv2D = partial(keras.layers.Conv2D,\n",
    "                        kernel_size=3,\n",
    "                        activation='relu',\n",
    "                        padding=\"SAME\")\n",
    "\n",
    "time_cnn_1 = keras.models.Sequential([\n",
    "    DefaultConv2D(filters=64, kernel_size=7, strides=3,input_shape=[150,150,1]),\n",
    "    DefaultConv2D(filters=64, kernel_size=7, strides=3),\n",
    "    keras.layers.MaxPooling2D(pool_size=2),\n",
    "    keras.layers.BatchNormalization(),\n",
    "    DefaultConv2D(filters=128, kernel_size=5),\n",
    "    DefaultConv2D(filters=128, kernel_size=5),\n",
    "    keras.layers.MaxPooling2D(pool_size=2),\n",
    "    keras.layers.BatchNormalization(),\n",
    "    DefaultConv2D(filters=256),\n",
    "    DefaultConv2D(filters=256),\n",
    "    keras.layers.MaxPooling2D(pool_size=2),\n",
    "    keras.layers.BatchNormalization(),\n",
    "    DefaultConv2D(filters=512),\n",
    "    keras.layers.Flatten(),\n",
    "    keras.layers.Dense(units=300, activation='relu', kernel_initializer='he_normal'),\n",
    "    keras.layers.Dense(units=100, activation='relu', kernel_initializer='he_normal'),\n",
    "    keras.layers.Dense(units=1, activation=\"linear\"),\n",
    "], name = \"CNN_Time_1\")\n"
   ]
  },
  {
   "cell_type": "code",
   "execution_count": 0,
   "metadata": {
    "colab": {
     "base_uri": "https://localhost:8080/",
     "height": 629
    },
    "colab_type": "code",
    "id": "fDYuOCSrE2Dg",
    "outputId": "cf650d8d-895b-4f69-be65-79876a5d1c89"
   },
   "outputs": [
    {
     "name": "stdout",
     "output_type": "stream",
     "text": [
      "Model: \"CNN_Time_1\"\n",
      "_________________________________________________________________\n",
      "Layer (type)                 Output Shape              Param #   \n",
      "=================================================================\n",
      "conv2d (Conv2D)              (None, 50, 50, 64)        3200      \n",
      "_________________________________________________________________\n",
      "conv2d_1 (Conv2D)            (None, 17, 17, 64)        200768    \n",
      "_________________________________________________________________\n",
      "max_pooling2d (MaxPooling2D) (None, 8, 8, 64)          0         \n",
      "_________________________________________________________________\n",
      "conv2d_2 (Conv2D)            (None, 8, 8, 128)         204928    \n",
      "_________________________________________________________________\n",
      "conv2d_3 (Conv2D)            (None, 8, 8, 128)         409728    \n",
      "_________________________________________________________________\n",
      "max_pooling2d_1 (MaxPooling2 (None, 4, 4, 128)         0         \n",
      "_________________________________________________________________\n",
      "conv2d_4 (Conv2D)            (None, 4, 4, 256)         295168    \n",
      "_________________________________________________________________\n",
      "conv2d_5 (Conv2D)            (None, 4, 4, 256)         590080    \n",
      "_________________________________________________________________\n",
      "max_pooling2d_2 (MaxPooling2 (None, 2, 2, 256)         0         \n",
      "_________________________________________________________________\n",
      "conv2d_6 (Conv2D)            (None, 2, 2, 512)         1180160   \n",
      "_________________________________________________________________\n",
      "flatten (Flatten)            (None, 2048)              0         \n",
      "_________________________________________________________________\n",
      "dense (Dense)                (None, 300)               614700    \n",
      "_________________________________________________________________\n",
      "dense_1 (Dense)              (None, 100)               30100     \n",
      "_________________________________________________________________\n",
      "dense_2 (Dense)              (None, 1)                 101       \n",
      "=================================================================\n",
      "Total params: 3,528,933\n",
      "Trainable params: 3,528,933\n",
      "Non-trainable params: 0\n",
      "_________________________________________________________________\n"
     ]
    }
   ],
   "source": [
    "# show model summary\n",
    "time_cnn_1.summary()\n"
   ]
  },
  {
   "cell_type": "code",
   "execution_count": 0,
   "metadata": {
    "colab": {},
    "colab_type": "code",
    "id": "HdT2GBo4JIjF"
   },
   "outputs": [],
   "source": [
    "# initialize variables\n",
    "epochs, patience = 200, 20"
   ]
  },
  {
   "cell_type": "markdown",
   "metadata": {
    "colab_type": "text",
    "id": "G6F0B3MJI37e"
   },
   "source": [
    "### First run: custom_mae loss\n"
   ]
  },
  {
   "cell_type": "code",
   "execution_count": 0,
   "metadata": {
    "colab": {},
    "colab_type": "code",
    "id": "xD-9FwR_mBWI"
   },
   "outputs": [],
   "source": [
    "# # compile models\n",
    "# time_cnn_1.compile(loss= custom_mae,\n",
    "#               optimizer=keras.optimizers.Adam(lr=0.001, beta_1=0.9, beta_2=0.999, decay=1e-4))"
   ]
  },
  {
   "cell_type": "code",
   "execution_count": 0,
   "metadata": {
    "colab": {},
    "colab_type": "code",
    "id": "04NdR9W-CzOp"
   },
   "outputs": [],
   "source": [
    "# # train models\n",
    "# save_name = time_cnn_1.name + \"_fit_1\"\n",
    "# print(\"Fit\", save_name, \"\\n\")\n",
    "\n",
    "\n",
    "# # save compiled model\n",
    "# time_cnn_1.save(model_path + save_name + \".h5\")\n",
    "\n",
    "# checkpoint_cb = keras.callbacks.ModelCheckpoint(model_path + save_name + \".h5\",\n",
    "#                                                 save_best_only=True)\n",
    "\n",
    "# early_stopping_cb = keras.callbacks.EarlyStopping(patience=patience,\n",
    "#                                                     restore_best_weights=True)\n",
    "\n",
    "# history = time_cnn_1.fit(X_train, y_train, epochs=epochs,\n",
    "#             validation_data = (X_valid, y_valid),\n",
    "#             callbacks = [checkpoint_cb, early_stopping_cb],\n",
    "#             batchsize = 32\n",
    "#             )\n",
    "    \n",
    "# #write history to file\n",
    "# pd.DataFrame(history.history).to_csv(history_path + save_name + \".csv\")"
   ]
  },
  {
   "cell_type": "markdown",
   "metadata": {
    "colab_type": "text",
    "id": "kcNLzuVbJKi_"
   },
   "source": [
    "#### ---> loss is not decreasing \n"
   ]
  },
  {
   "cell_type": "markdown",
   "metadata": {
    "colab_type": "text",
    "id": "vMGSW9p8qYEY"
   },
   "source": [
    "### MAE loss, cumstom mae evaluation metric"
   ]
  },
  {
   "cell_type": "code",
   "execution_count": 0,
   "metadata": {
    "colab": {},
    "colab_type": "code",
    "id": "jUNUVct-JZeZ"
   },
   "outputs": [],
   "source": [
    "# compile models\n",
    "time_cnn_1.compile(loss=\"mae\",\n",
    "              optimizer=keras.optimizers.Adam(lr=0.001, beta_1=0.9, beta_2=0.999, decay=1e-4),\n",
    "              metrics=custom_mae)"
   ]
  },
  {
   "cell_type": "code",
   "execution_count": 0,
   "metadata": {
    "colab": {},
    "colab_type": "code",
    "id": "oC2ix8MbJZed"
   },
   "outputs": [],
   "source": [
    "# train models\n",
    "save_name = time_cnn_1.name + \"_fit_2\"\n",
    "print(\"Fit\", save_name, \"\\n\")\n",
    "\n",
    "\n",
    "# implement early stopping and checkpoint callback\n",
    "checkpoint_cb = keras.callbacks.ModelCheckpoint(model_path + save_name + \".h5\",\n",
    "                                                save_best_only=True)\n",
    "\n",
    "early_stopping_cb = keras.callbacks.EarlyStopping(patience=patience,\n",
    "                                                    restore_best_weights=True)\n",
    "\n",
    "\n",
    "# fit the model\n",
    "history = time_cnn_1.fit(X_train, y_train, epochs=epochs,\n",
    "            validation_data = (X_valid, y_valid),\n",
    "            callbacks = [checkpoint_cb, early_stopping_cb],\n",
    "            batchsize = 32\n",
    "            )\n",
    "\n",
    "# save fitted model\n",
    "time_cnn_1.save(model_path + save_name + \".h5\")\n",
    "\n",
    "# write history to file\n",
    "pd.DataFrame(history.history).to_csv(history_path + save_name + \".csv\")"
   ]
  },
  {
   "cell_type": "code",
   "execution_count": 0,
   "metadata": {
    "colab": {
     "base_uri": "https://localhost:8080/",
     "height": 85
    },
    "colab_type": "code",
    "id": "NFYo3XJOmBWL",
    "outputId": "5a689d3c-d5a3-416f-a5a1-6d2888260274"
   },
   "outputs": [
    {
     "name": "stdout",
     "output_type": "stream",
     "text": [
      "Results: [MAE, custom_mae]\n",
      "Train:  [5.10637092590332, 5.10637092590332]\n",
      "Valid:  [15.674736022949219, 14.345276832580566]\n",
      "Test:   [16.721412658691406, 15.236953735351562]\n"
     ]
    }
   ],
   "source": [
    "# evaluate the model\n",
    "score_train = time_cnn_1.evaluate(X_train, y_train, verbose=0)\n",
    "score_valid = time_cnn_1.evaluate(X_valid, y_valid, verbose=0)\n",
    "score_test = time_cnn_1.evaluate(X_test, y_test, verbose=0)\n",
    "print(\"Results: [MAE, custom_mae]\")\n",
    "print(\"Train: \", score_train)\n",
    "print(\"Valid: \", score_valid)\n",
    "print(\"Test:  \", score_test)"
   ]
  },
  {
   "cell_type": "code",
   "execution_count": 0,
   "metadata": {
    "colab": {
     "base_uri": "https://localhost:8080/",
     "height": 281
    },
    "colab_type": "code",
    "id": "7OA1FS3vQXO4",
    "outputId": "bb179513-0519-480b-decc-9b42f0ba2b19"
   },
   "outputs": [
    {
     "data": {
      "image/png": "[encoded data removed]",
      "text/plain": [
       "<Figure size 432x288 with 1 Axes>"
      ]
     },
     "metadata": {
      "needs_background": "light",
      "tags": []
     },
     "output_type": "display_data"
    }
   ],
   "source": [
    "# plot custom_mae during training\n",
    "plt.title('Customized Mean Absolute Error')\n",
    "plt.plot(history.history['custom_mae'], label='train')\n",
    "plt.plot(history.history['val_custom_mae'], label='valid')\n",
    "plt.legend()\n",
    "plt.show()"
   ]
  },
  {
   "cell_type": "markdown",
   "metadata": {
    "colab_type": "text",
    "id": "9jUBxIzMcxp3"
   },
   "source": [
    "### Plot time vs residuals"
   ]
  },
  {
   "cell_type": "code",
   "execution_count": 0,
   "metadata": {
    "colab": {
     "base_uri": "https://localhost:8080/",
     "height": 341
    },
    "colab_type": "code",
    "id": "8tLjdcKjb51i",
    "outputId": "9bbaf176-f39a-4556-a829-294cc3a70111"
   },
   "outputs": [
    {
     "ename": "ValueError",
     "evalue": "ignored",
     "output_type": "error",
     "traceback": [
      "\u001b[0;31m---------------------------------------------------------------------------\u001b[0m",
      "\u001b[0;31mValueError\u001b[0m                                Traceback (most recent call last)",
      "\u001b[0;32m<ipython-input-179-e5622da5c077>\u001b[0m in \u001b[0;36m<module>\u001b[0;34m()\u001b[0m\n\u001b[1;32m     13\u001b[0m     \u001b[0mplt\u001b[0m\u001b[0;34m.\u001b[0m\u001b[0mshow\u001b[0m\u001b[0;34m(\u001b[0m\u001b[0;34m)\u001b[0m\u001b[0;34m\u001b[0m\u001b[0;34m\u001b[0m\u001b[0m\n\u001b[1;32m     14\u001b[0m \u001b[0;34m\u001b[0m\u001b[0m\n\u001b[0;32m---> 15\u001b[0;31m \u001b[0mplot_timevresiduals\u001b[0m\u001b[0;34m(\u001b[0m\u001b[0mtime_cnn_1\u001b[0m\u001b[0;34m,\u001b[0m \u001b[0mX_test\u001b[0m\u001b[0;34m,\u001b[0m \u001b[0my_test\u001b[0m\u001b[0;34m)\u001b[0m\u001b[0;34m\u001b[0m\u001b[0;34m\u001b[0m\u001b[0m\n\u001b[0m",
      "\u001b[0;32m<ipython-input-179-e5622da5c077>\u001b[0m in \u001b[0;36mplot_timevresiduals\u001b[0;34m(model, X, y_true)\u001b[0m\n\u001b[1;32m      4\u001b[0m     \u001b[0;32mfor\u001b[0m \u001b[0mi\u001b[0m \u001b[0;32min\u001b[0m \u001b[0mrange\u001b[0m\u001b[0;34m(\u001b[0m\u001b[0mlen\u001b[0m\u001b[0;34m(\u001b[0m\u001b[0my_true\u001b[0m\u001b[0;34m)\u001b[0m\u001b[0;34m)\u001b[0m\u001b[0;34m:\u001b[0m\u001b[0;34m\u001b[0m\u001b[0;34m\u001b[0m\u001b[0m\n\u001b[1;32m      5\u001b[0m         \u001b[0merror\u001b[0m\u001b[0;34m.\u001b[0m\u001b[0mappend\u001b[0m\u001b[0;34m(\u001b[0m\u001b[0mint\u001b[0m\u001b[0;34m(\u001b[0m\u001b[0mcustom_mae\u001b[0m\u001b[0;34m(\u001b[0m\u001b[0my_true\u001b[0m\u001b[0;34m[\u001b[0m\u001b[0mi\u001b[0m\u001b[0;34m]\u001b[0m\u001b[0;34m,\u001b[0m \u001b[0my_pred\u001b[0m\u001b[0;34m[\u001b[0m\u001b[0mi\u001b[0m\u001b[0;34m]\u001b[0m\u001b[0;34m)\u001b[0m\u001b[0;34m)\u001b[0m\u001b[0;34m)\u001b[0m\u001b[0;34m\u001b[0m\u001b[0;34m\u001b[0m\u001b[0m\n\u001b[0;32m----> 6\u001b[0;31m     \u001b[0mdf\u001b[0m \u001b[0;34m=\u001b[0m \u001b[0mpd\u001b[0m\u001b[0;34m.\u001b[0m\u001b[0mDataFrame\u001b[0m\u001b[0;34m(\u001b[0m\u001b[0merror\u001b[0m\u001b[0;34m,\u001b[0m \u001b[0mindex\u001b[0m \u001b[0;34m=\u001b[0m \u001b[0my_true\u001b[0m\u001b[0;34m)\u001b[0m\u001b[0;34m\u001b[0m\u001b[0;34m\u001b[0m\u001b[0m\n\u001b[0m\u001b[1;32m      7\u001b[0m     \u001b[0mdf\u001b[0m \u001b[0;34m=\u001b[0m \u001b[0mdf\u001b[0m\u001b[0;34m.\u001b[0m\u001b[0msort_index\u001b[0m\u001b[0;34m(\u001b[0m\u001b[0;34m)\u001b[0m\u001b[0;34m\u001b[0m\u001b[0;34m\u001b[0m\u001b[0m\n\u001b[1;32m      8\u001b[0m     \u001b[0;31m#df = df.rolling(int(len(y_true)/10)).mean()\u001b[0m\u001b[0;34m\u001b[0m\u001b[0;34m\u001b[0m\u001b[0;34m\u001b[0m\u001b[0m\n",
      "\u001b[0;32m/usr/local/lib/python3.6/dist-packages/pandas/core/frame.py\u001b[0m in \u001b[0;36m__init__\u001b[0;34m(self, data, index, columns, dtype, copy)\u001b[0m\n\u001b[1;32m    486\u001b[0m                     \u001b[0mmgr\u001b[0m \u001b[0;34m=\u001b[0m \u001b[0marrays_to_mgr\u001b[0m\u001b[0;34m(\u001b[0m\u001b[0marrays\u001b[0m\u001b[0;34m,\u001b[0m \u001b[0mcolumns\u001b[0m\u001b[0;34m,\u001b[0m \u001b[0mindex\u001b[0m\u001b[0;34m,\u001b[0m \u001b[0mcolumns\u001b[0m\u001b[0;34m,\u001b[0m \u001b[0mdtype\u001b[0m\u001b[0;34m=\u001b[0m\u001b[0mdtype\u001b[0m\u001b[0;34m)\u001b[0m\u001b[0;34m\u001b[0m\u001b[0;34m\u001b[0m\u001b[0m\n\u001b[1;32m    487\u001b[0m                 \u001b[0;32melse\u001b[0m\u001b[0;34m:\u001b[0m\u001b[0;34m\u001b[0m\u001b[0;34m\u001b[0m\u001b[0m\n\u001b[0;32m--> 488\u001b[0;31m                     \u001b[0mmgr\u001b[0m \u001b[0;34m=\u001b[0m \u001b[0minit_ndarray\u001b[0m\u001b[0;34m(\u001b[0m\u001b[0mdata\u001b[0m\u001b[0;34m,\u001b[0m \u001b[0mindex\u001b[0m\u001b[0;34m,\u001b[0m \u001b[0mcolumns\u001b[0m\u001b[0;34m,\u001b[0m \u001b[0mdtype\u001b[0m\u001b[0;34m=\u001b[0m\u001b[0mdtype\u001b[0m\u001b[0;34m,\u001b[0m \u001b[0mcopy\u001b[0m\u001b[0;34m=\u001b[0m\u001b[0mcopy\u001b[0m\u001b[0;34m)\u001b[0m\u001b[0;34m\u001b[0m\u001b[0;34m\u001b[0m\u001b[0m\n\u001b[0m\u001b[1;32m    489\u001b[0m             \u001b[0;32melse\u001b[0m\u001b[0;34m:\u001b[0m\u001b[0;34m\u001b[0m\u001b[0;34m\u001b[0m\u001b[0m\n\u001b[1;32m    490\u001b[0m                 \u001b[0mmgr\u001b[0m \u001b[0;34m=\u001b[0m \u001b[0minit_dict\u001b[0m\u001b[0;34m(\u001b[0m\u001b[0;34m{\u001b[0m\u001b[0;34m}\u001b[0m\u001b[0;34m,\u001b[0m \u001b[0mindex\u001b[0m\u001b[0;34m,\u001b[0m \u001b[0mcolumns\u001b[0m\u001b[0;34m,\u001b[0m \u001b[0mdtype\u001b[0m\u001b[0;34m=\u001b[0m\u001b[0mdtype\u001b[0m\u001b[0;34m)\u001b[0m\u001b[0;34m\u001b[0m\u001b[0;34m\u001b[0m\u001b[0m\n",
      "\u001b[0;32m/usr/local/lib/python3.6/dist-packages/pandas/core/internals/construction.py\u001b[0m in \u001b[0;36minit_ndarray\u001b[0;34m(values, index, columns, dtype, copy)\u001b[0m\n\u001b[1;32m    179\u001b[0m                 ) from orig\n\u001b[1;32m    180\u001b[0m \u001b[0;34m\u001b[0m\u001b[0m\n\u001b[0;32m--> 181\u001b[0;31m     \u001b[0mindex\u001b[0m\u001b[0;34m,\u001b[0m \u001b[0mcolumns\u001b[0m \u001b[0;34m=\u001b[0m \u001b[0m_get_axes\u001b[0m\u001b[0;34m(\u001b[0m\u001b[0;34m*\u001b[0m\u001b[0mvalues\u001b[0m\u001b[0;34m.\u001b[0m\u001b[0mshape\u001b[0m\u001b[0;34m,\u001b[0m \u001b[0mindex\u001b[0m\u001b[0;34m=\u001b[0m\u001b[0mindex\u001b[0m\u001b[0;34m,\u001b[0m \u001b[0mcolumns\u001b[0m\u001b[0;34m=\u001b[0m\u001b[0mcolumns\u001b[0m\u001b[0;34m)\u001b[0m\u001b[0;34m\u001b[0m\u001b[0;34m\u001b[0m\u001b[0m\n\u001b[0m\u001b[1;32m    182\u001b[0m     \u001b[0mvalues\u001b[0m \u001b[0;34m=\u001b[0m \u001b[0mvalues\u001b[0m\u001b[0;34m.\u001b[0m\u001b[0mT\u001b[0m\u001b[0;34m\u001b[0m\u001b[0;34m\u001b[0m\u001b[0m\n\u001b[1;32m    183\u001b[0m \u001b[0;34m\u001b[0m\u001b[0m\n",
      "\u001b[0;32m/usr/local/lib/python3.6/dist-packages/pandas/core/internals/construction.py\u001b[0m in \u001b[0;36m_get_axes\u001b[0;34m(N, K, index, columns)\u001b[0m\n\u001b[1;32m    422\u001b[0m         \u001b[0mindex\u001b[0m \u001b[0;34m=\u001b[0m \u001b[0mibase\u001b[0m\u001b[0;34m.\u001b[0m\u001b[0mdefault_index\u001b[0m\u001b[0;34m(\u001b[0m\u001b[0mN\u001b[0m\u001b[0;34m)\u001b[0m\u001b[0;34m\u001b[0m\u001b[0;34m\u001b[0m\u001b[0m\n\u001b[1;32m    423\u001b[0m     \u001b[0;32melse\u001b[0m\u001b[0;34m:\u001b[0m\u001b[0;34m\u001b[0m\u001b[0;34m\u001b[0m\u001b[0m\n\u001b[0;32m--> 424\u001b[0;31m         \u001b[0mindex\u001b[0m \u001b[0;34m=\u001b[0m \u001b[0mensure_index\u001b[0m\u001b[0;34m(\u001b[0m\u001b[0mindex\u001b[0m\u001b[0;34m)\u001b[0m\u001b[0;34m\u001b[0m\u001b[0;34m\u001b[0m\u001b[0m\n\u001b[0m\u001b[1;32m    425\u001b[0m \u001b[0;34m\u001b[0m\u001b[0m\n\u001b[1;32m    426\u001b[0m     \u001b[0;32mif\u001b[0m \u001b[0mcolumns\u001b[0m \u001b[0;32mis\u001b[0m \u001b[0;32mNone\u001b[0m\u001b[0;34m:\u001b[0m\u001b[0;34m\u001b[0m\u001b[0;34m\u001b[0m\u001b[0m\n",
      "\u001b[0;32m/usr/local/lib/python3.6/dist-packages/pandas/core/indexes/base.py\u001b[0m in \u001b[0;36mensure_index\u001b[0;34m(index_like, copy)\u001b[0m\n\u001b[1;32m   5355\u001b[0m             \u001b[0mindex_like\u001b[0m \u001b[0;34m=\u001b[0m \u001b[0mcopy\u001b[0m\u001b[0;34m(\u001b[0m\u001b[0mindex_like\u001b[0m\u001b[0;34m)\u001b[0m\u001b[0;34m\u001b[0m\u001b[0;34m\u001b[0m\u001b[0m\n\u001b[1;32m   5356\u001b[0m \u001b[0;34m\u001b[0m\u001b[0m\n\u001b[0;32m-> 5357\u001b[0;31m     \u001b[0;32mreturn\u001b[0m \u001b[0mIndex\u001b[0m\u001b[0;34m(\u001b[0m\u001b[0mindex_like\u001b[0m\u001b[0;34m)\u001b[0m\u001b[0;34m\u001b[0m\u001b[0;34m\u001b[0m\u001b[0m\n\u001b[0m\u001b[1;32m   5358\u001b[0m \u001b[0;34m\u001b[0m\u001b[0m\n\u001b[1;32m   5359\u001b[0m \u001b[0;34m\u001b[0m\u001b[0m\n",
      "\u001b[0;32m/usr/local/lib/python3.6/dist-packages/pandas/core/indexes/base.py\u001b[0m in \u001b[0;36m__new__\u001b[0;34m(cls, data, dtype, copy, name, tupleize_cols, **kwargs)\u001b[0m\n\u001b[1;32m    388\u001b[0m             \u001b[0;31m# maybe coerce to a sub-class\u001b[0m\u001b[0;34m\u001b[0m\u001b[0;34m\u001b[0m\u001b[0;34m\u001b[0m\u001b[0m\n\u001b[1;32m    389\u001b[0m             \u001b[0;32mif\u001b[0m \u001b[0mis_signed_integer_dtype\u001b[0m\u001b[0;34m(\u001b[0m\u001b[0mdata\u001b[0m\u001b[0;34m.\u001b[0m\u001b[0mdtype\u001b[0m\u001b[0;34m)\u001b[0m\u001b[0;34m:\u001b[0m\u001b[0;34m\u001b[0m\u001b[0;34m\u001b[0m\u001b[0m\n\u001b[0;32m--> 390\u001b[0;31m                 \u001b[0;32mreturn\u001b[0m \u001b[0mInt64Index\u001b[0m\u001b[0;34m(\u001b[0m\u001b[0mdata\u001b[0m\u001b[0;34m,\u001b[0m \u001b[0mcopy\u001b[0m\u001b[0;34m=\u001b[0m\u001b[0mcopy\u001b[0m\u001b[0;34m,\u001b[0m \u001b[0mdtype\u001b[0m\u001b[0;34m=\u001b[0m\u001b[0mdtype\u001b[0m\u001b[0;34m,\u001b[0m \u001b[0mname\u001b[0m\u001b[0;34m=\u001b[0m\u001b[0mname\u001b[0m\u001b[0;34m)\u001b[0m\u001b[0;34m\u001b[0m\u001b[0;34m\u001b[0m\u001b[0m\n\u001b[0m\u001b[1;32m    391\u001b[0m             \u001b[0;32melif\u001b[0m \u001b[0mis_unsigned_integer_dtype\u001b[0m\u001b[0;34m(\u001b[0m\u001b[0mdata\u001b[0m\u001b[0;34m.\u001b[0m\u001b[0mdtype\u001b[0m\u001b[0;34m)\u001b[0m\u001b[0;34m:\u001b[0m\u001b[0;34m\u001b[0m\u001b[0;34m\u001b[0m\u001b[0m\n\u001b[1;32m    392\u001b[0m                 \u001b[0;32mreturn\u001b[0m \u001b[0mUInt64Index\u001b[0m\u001b[0;34m(\u001b[0m\u001b[0mdata\u001b[0m\u001b[0;34m,\u001b[0m \u001b[0mcopy\u001b[0m\u001b[0;34m=\u001b[0m\u001b[0mcopy\u001b[0m\u001b[0;34m,\u001b[0m \u001b[0mdtype\u001b[0m\u001b[0;34m=\u001b[0m\u001b[0mdtype\u001b[0m\u001b[0;34m,\u001b[0m \u001b[0mname\u001b[0m\u001b[0;34m=\u001b[0m\u001b[0mname\u001b[0m\u001b[0;34m)\u001b[0m\u001b[0;34m\u001b[0m\u001b[0;34m\u001b[0m\u001b[0m\n",
      "\u001b[0;32m/usr/local/lib/python3.6/dist-packages/pandas/core/indexes/numeric.py\u001b[0m in \u001b[0;36m__new__\u001b[0;34m(cls, data, dtype, copy, name)\u001b[0m\n\u001b[1;32m     76\u001b[0m         \u001b[0;32mif\u001b[0m \u001b[0msubarr\u001b[0m\u001b[0;34m.\u001b[0m\u001b[0mndim\u001b[0m \u001b[0;34m>\u001b[0m \u001b[0;36m1\u001b[0m\u001b[0;34m:\u001b[0m\u001b[0;34m\u001b[0m\u001b[0;34m\u001b[0m\u001b[0m\n\u001b[1;32m     77\u001b[0m             \u001b[0;31m# GH#13601, GH#20285, GH#27125\u001b[0m\u001b[0;34m\u001b[0m\u001b[0;34m\u001b[0m\u001b[0;34m\u001b[0m\u001b[0m\n\u001b[0;32m---> 78\u001b[0;31m             \u001b[0;32mraise\u001b[0m \u001b[0mValueError\u001b[0m\u001b[0;34m(\u001b[0m\u001b[0;34m\"Index data must be 1-dimensional\"\u001b[0m\u001b[0;34m)\u001b[0m\u001b[0;34m\u001b[0m\u001b[0;34m\u001b[0m\u001b[0m\n\u001b[0m\u001b[1;32m     79\u001b[0m \u001b[0;34m\u001b[0m\u001b[0m\n\u001b[1;32m     80\u001b[0m         \u001b[0mname\u001b[0m \u001b[0;34m=\u001b[0m \u001b[0mmaybe_extract_name\u001b[0m\u001b[0;34m(\u001b[0m\u001b[0mname\u001b[0m\u001b[0;34m,\u001b[0m \u001b[0mdata\u001b[0m\u001b[0;34m,\u001b[0m \u001b[0mcls\u001b[0m\u001b[0;34m)\u001b[0m\u001b[0;34m\u001b[0m\u001b[0;34m\u001b[0m\u001b[0m\n",
      "\u001b[0;31mValueError\u001b[0m: Index data must be 1-dimensional"
     ]
    }
   ],
   "source": [
    "def plot_timevresiduals(model, X, y_true):\n",
    "    y_pred = model.predict(X).reshape(-1)\n",
    "    error = []\n",
    "    for i in range(len(y_true)):\n",
    "        error.append(int(custom_mae(y_true[i], y_pred[i])))\n",
    "    df = pd.DataFrame(error, index = y_true)\n",
    "    df = df.sort_index()\n",
    "    df = df.rolling(int(len(y_true)/10)).mean()\n",
    "    sns.lineplot(data = df, legend = None)\n",
    "    plt.xlabel(\"Time\")\n",
    "    plt.ylabel(\"Custom Error\")\n",
    "    plt.title(\"Error vs. Time\")\n",
    "    plt.show()\n",
    "\n",
    "plot_timevresiduals(time_cnn_1, X_test, y_test)"
   ]
  },
  {
   "cell_type": "markdown",
   "metadata": {
    "colab_type": "text",
    "id": "bIGZ6WGWmgdO"
   },
   "source": [
    "## 3.3 Regression and Classifiaction combined Approach"
   ]
  },
  {
   "cell_type": "code",
   "execution_count": 0,
   "metadata": {
    "colab": {
     "base_uri": "https://localhost:8080/",
     "height": 34
    },
    "colab_type": "code",
    "id": "La7kmD0JpZ9R",
    "outputId": "894fecb5-2d5b-4528-a49a-8ee3a74d3fbb"
   },
   "outputs": [
    {
     "name": "stderr",
     "output_type": "stream",
     "text": [
      "Using TensorFlow backend.\n"
     ]
    }
   ],
   "source": [
    "from keras.models import Model\n",
    "from keras.layers import Conv2D, Flatten, Dense, Activation, MaxPooling2D, Dropout, Input, BatchNormalization"
   ]
  },
  {
   "cell_type": "code",
   "execution_count": 0,
   "metadata": {
    "colab": {},
    "colab_type": "code",
    "id": "cy6nbtdhmpO4"
   },
   "outputs": [],
   "source": [
    "# create train, validation and test set\n",
    "X_train, X_test, y_train, y_test = train_test_split(images, labels, test_size=0.2, random_state=42)\n",
    "X_valid, X_train = X_train[:2000], X_train[2000:] \n",
    "y_valid, y_train = y_train[:2000], y_train[2000:]\n",
    "\n",
    "# reshape images to have a single color channel and reduce to [0,1]\n",
    "X_train = X_train.reshape((X_train.shape[0], 150, 150, 1)) / 255\n",
    "X_valid = X_valid.reshape((X_valid.shape[0], 150, 150, 1)) / 255\n",
    "X_test = X_test.reshape((X_test.shape[0], 150, 150, 1)) / 255"
   ]
  },
  {
   "cell_type": "code",
   "execution_count": 0,
   "metadata": {
    "colab": {},
    "colab_type": "code",
    "id": "zLkLG3eh6qmE"
   },
   "outputs": [],
   "source": [
    "# function to split labels into hours and minutes\n",
    "def transform_labels(data):\n",
    "  hours = np.array([data[i][0] for i in range(len(data))]).reshape(len(data),1)\n",
    "  minutes = np.array([data[i][1] for i in range(len(data))]).reshape(len(data),1) / 60 # reduce minutes to [0,1]\n",
    "  return hours, minutes\n",
    "\n",
    "y_train_hours, y_train_minutes = transform_labels(y_train)\n",
    "y_valid_hours, y_valid_minutes = transform_labels(y_valid)\n",
    "y_test_hours, y_test_minutes = transform_labels(y_test)"
   ]
  },
  {
   "cell_type": "markdown",
   "metadata": {
    "colab_type": "text",
    "id": "uiRacGfBtxix"
   },
   "source": [
    "### Create the combined model"
   ]
  },
  {
   "cell_type": "code",
   "execution_count": 0,
   "metadata": {
    "colab": {
     "base_uri": "https://localhost:8080/",
     "height": 765
    },
    "colab_type": "code",
    "id": "8ek9N5Yxo6z1",
    "outputId": "bffda3ee-7282-429c-cfbc-a89d646db2a0"
   },
   "outputs": [
    {
     "name": "stdout",
     "output_type": "stream",
     "text": [
      "Model: \"combined\"\n",
      "__________________________________________________________________________________________________\n",
      "Layer (type)                    Output Shape         Param #     Connected to                     \n",
      "==================================================================================================\n",
      "input_10 (InputLayer)           (None, 150, 150, 1)  0                                            \n",
      "__________________________________________________________________________________________________\n",
      "conv2d_51 (Conv2D)              (None, 73, 73, 64)   1664        input_10[0][0]                   \n",
      "__________________________________________________________________________________________________\n",
      "max_pooling2d_23 (MaxPooling2D) (None, 36, 36, 64)   0           conv2d_51[0][0]                  \n",
      "__________________________________________________________________________________________________\n",
      "batch_normalization_23 (BatchNo (None, 36, 36, 64)   256         max_pooling2d_23[0][0]           \n",
      "__________________________________________________________________________________________________\n",
      "conv2d_52 (Conv2D)              (None, 34, 34, 128)  73856       batch_normalization_23[0][0]     \n",
      "__________________________________________________________________________________________________\n",
      "max_pooling2d_24 (MaxPooling2D) (None, 17, 17, 128)  0           conv2d_52[0][0]                  \n",
      "__________________________________________________________________________________________________\n",
      "batch_normalization_24 (BatchNo (None, 17, 17, 128)  512         max_pooling2d_24[0][0]           \n",
      "__________________________________________________________________________________________________\n",
      "conv2d_53 (Conv2D)              (None, 15, 15, 256)  295168      batch_normalization_24[0][0]     \n",
      "__________________________________________________________________________________________________\n",
      "max_pooling2d_25 (MaxPooling2D) (None, 7, 7, 256)    0           conv2d_53[0][0]                  \n",
      "__________________________________________________________________________________________________\n",
      "batch_normalization_25 (BatchNo (None, 7, 7, 256)    1024        max_pooling2d_25[0][0]           \n",
      "__________________________________________________________________________________________________\n",
      "conv2d_54 (Conv2D)              (None, 5, 5, 512)    1180160     batch_normalization_25[0][0]     \n",
      "__________________________________________________________________________________________________\n",
      "flatten_8 (Flatten)             (None, 12800)        0           conv2d_54[0][0]                  \n",
      "__________________________________________________________________________________________________\n",
      "dense_29 (Dense)                (None, 144)          1843344     flatten_8[0][0]                  \n",
      "__________________________________________________________________________________________________\n",
      "dense_31 (Dense)                (None, 200)          2560200     flatten_8[0][0]                  \n",
      "__________________________________________________________________________________________________\n",
      "dense_30 (Dense)                (None, 144)          20880       dense_29[0][0]                   \n",
      "__________________________________________________________________________________________________\n",
      "dense_32 (Dense)                (None, 100)          20100       dense_31[0][0]                   \n",
      "__________________________________________________________________________________________________\n",
      "hour (Dense)                    (None, 12)           1740        dense_30[0][0]                   \n",
      "__________________________________________________________________________________________________\n",
      "minute (Dense)                  (None, 1)            101         dense_32[0][0]                   \n",
      "==================================================================================================\n",
      "Total params: 5,999,005\n",
      "Trainable params: 5,998,109\n",
      "Non-trainable params: 896\n",
      "__________________________________________________________________________________________________\n"
     ]
    }
   ],
   "source": [
    "# create the model\n",
    "inp = Input(shape=(150,150,1))\n",
    "\n",
    "# convolutional layers\n",
    "c1 = Conv2D(64, kernel_size=5, strides=2, activation='relu')(inp)\n",
    "m1 = MaxPooling2D(pool_size=(2, 2), strides=2)(c1)\n",
    "b1 = BatchNormalization()(m1)\n",
    "\n",
    "c2 = Conv2D(128, kernel_size=3, strides=1, activation='relu')(b1)\n",
    "m2 = MaxPooling2D(pool_size=(2, 2), strides=2)(c2)\n",
    "b2 = BatchNormalization()(m2)\n",
    "\n",
    "c3 = Conv2D(256, kernel_size=3, strides=1, activation='relu')(b2)\n",
    "m3 = MaxPooling2D(pool_size=(2, 2), strides=2)(c3)\n",
    "b3 = BatchNormalization()(m3)\n",
    "\n",
    "c4 = Conv2D(512, kernel_size=3, strides=1, activation='relu')(b3)\n",
    "f = Flatten()(c4)\n",
    "\n",
    "# hours\n",
    "hour = Dense(144, activation='relu')(f)\n",
    "hour = Dense(144, activation='relu')(hour)\n",
    "hour = Dense(12, activation='softmax', name='hour')(hour)\n",
    "\n",
    "# minutes\n",
    "minute = Dense(200, activation='relu')(f)\n",
    "minute = Dense(100, activation='relu')(minute)\n",
    "minute = Dense(1, activation='linear', name='minute')(minute)\n",
    "\n",
    "time_combined = Model(inputs=inp, outputs=[hour, minute], name='combined')\n",
    "\n",
    "time_combined.summary()"
   ]
  },
  {
   "cell_type": "code",
   "execution_count": 0,
   "metadata": {
    "colab": {},
    "colab_type": "code",
    "id": "D0t-wmKiGlak"
   },
   "outputs": [],
   "source": [
    "# comile the model \n",
    "time_combined.compile(loss=['sparse_categorical_crossentropy', 'mse'], \n",
    "              optimizer=keras.optimizers.Adam(lr=0.001, beta_1=0.9, beta_2=0.999, decay=1e-4), \n",
    "              metrics=['accuracy', custom_mae])\n",
    "\n",
    "# implement callbacks for early stopping\n",
    "checkpoint_cb = keras.callbacks.ModelCheckpoint(model_path + time_combined.name + \".h5\",\n",
    "                                                    save_best_only=True)\n",
    "early_stopping_cb = keras.callbacks.EarlyStopping(patience=patience,\n",
    "                                                        restore_best_weights=True)"
   ]
  },
  {
   "cell_type": "code",
   "execution_count": 0,
   "metadata": {
    "colab": {
     "base_uri": "https://localhost:8080/",
     "height": 1000
    },
    "colab_type": "code",
    "id": "goFk01bCKeAK",
    "outputId": "a4c95039-978c-4374-9e88-3a05d27806ee"
   },
   "outputs": [
    {
     "name": "stdout",
     "output_type": "stream",
     "text": [
      "Train on 12400 samples, validate on 2000 samples\n",
      "Epoch 1/200\n",
      "12400/12400 [==============================] - 21s 2ms/step - loss: 2.9947 - hour_loss: 2.1877 - minute_loss: 0.8054 - hour_accuracy: 0.1835 - hour_custom_mae: 5.4289 - minute_accuracy: 0.0101 - minute_custom_mae: 0.2880 - val_loss: 6.7454 - val_hour_loss: 6.1893 - val_minute_loss: 0.5540 - val_hour_accuracy: 0.0800 - val_hour_custom_mae: 5.5222 - val_minute_accuracy: 0.0165 - val_minute_custom_mae: 0.6798\n",
      "Epoch 2/200\n",
      "12400/12400 [==============================] - 20s 2ms/step - loss: 1.2942 - hour_loss: 1.2202 - minute_loss: 0.0735 - hour_accuracy: 0.4950 - hour_custom_mae: 5.4303 - minute_accuracy: 0.0102 - minute_custom_mae: 0.2142 - val_loss: 1.4094 - val_hour_loss: 1.3345 - val_minute_loss: 0.0749 - val_hour_accuracy: 0.4610 - val_hour_custom_mae: 5.5222 - val_minute_accuracy: 0.0150 - val_minute_custom_mae: 0.2208\n",
      "Epoch 3/200\n",
      "12400/12400 [==============================] - 20s 2ms/step - loss: 0.7474 - hour_loss: 0.6885 - minute_loss: 0.0585 - hour_accuracy: 0.7236 - hour_custom_mae: 5.4277 - minute_accuracy: 0.0118 - minute_custom_mae: 0.1873 - val_loss: 2.0427 - val_hour_loss: 1.9642 - val_minute_loss: 0.0795 - val_hour_accuracy: 0.2685 - val_hour_custom_mae: 5.5222 - val_minute_accuracy: 0.0125 - val_minute_custom_mae: 0.2338\n",
      "Epoch 4/200\n",
      "12400/12400 [==============================] - 20s 2ms/step - loss: 0.5119 - hour_loss: 0.4667 - minute_loss: 0.0451 - hour_accuracy: 0.8213 - hour_custom_mae: 5.4296 - minute_accuracy: 0.0113 - minute_custom_mae: 0.1604 - val_loss: 1.5815 - val_hour_loss: 1.4971 - val_minute_loss: 0.0853 - val_hour_accuracy: 0.4260 - val_hour_custom_mae: 5.5222 - val_minute_accuracy: 0.0040 - val_minute_custom_mae: 0.2396\n",
      "Epoch 5/200\n",
      "12400/12400 [==============================] - 20s 2ms/step - loss: 0.3735 - hour_loss: 0.3347 - minute_loss: 0.0386 - hour_accuracy: 0.8724 - hour_custom_mae: 5.4283 - minute_accuracy: 0.0117 - minute_custom_mae: 0.1453 - val_loss: 8.0010 - val_hour_loss: 7.7825 - val_minute_loss: 0.1979 - val_hour_accuracy: 0.1510 - val_hour_custom_mae: 5.5222 - val_minute_accuracy: 0.0030 - val_minute_custom_mae: 0.3676\n",
      "Epoch 6/200\n",
      "12400/12400 [==============================] - 20s 2ms/step - loss: 0.2670 - hour_loss: 0.2370 - minute_loss: 0.0306 - hour_accuracy: 0.9145 - hour_custom_mae: 5.4290 - minute_accuracy: 0.0127 - minute_custom_mae: 0.1265 - val_loss: 3.0308 - val_hour_loss: 2.9441 - val_minute_loss: 0.0762 - val_hour_accuracy: 0.2800 - val_hour_custom_mae: 5.5222 - val_minute_accuracy: 0.0060 - val_minute_custom_mae: 0.2245\n",
      "Epoch 7/200\n",
      "12400/12400 [==============================] - 20s 2ms/step - loss: 0.2807 - hour_loss: 0.2516 - minute_loss: 0.0290 - hour_accuracy: 0.9093 - hour_custom_mae: 5.4279 - minute_accuracy: 0.0119 - minute_custom_mae: 0.1216 - val_loss: 2.3558 - val_hour_loss: 2.2474 - val_minute_loss: 0.1053 - val_hour_accuracy: 0.3215 - val_hour_custom_mae: 5.5222 - val_minute_accuracy: 0.0015 - val_minute_custom_mae: 0.2686\n",
      "Epoch 8/200\n",
      "12400/12400 [==============================] - 20s 2ms/step - loss: 0.2244 - hour_loss: 0.1990 - minute_loss: 0.0252 - hour_accuracy: 0.9293 - hour_custom_mae: 5.4287 - minute_accuracy: 0.0135 - minute_custom_mae: 0.1129 - val_loss: 5.3817 - val_hour_loss: 5.2690 - val_minute_loss: 0.0972 - val_hour_accuracy: 0.3750 - val_hour_custom_mae: 5.5222 - val_minute_accuracy: 0.0045 - val_minute_custom_mae: 0.2523\n",
      "Epoch 9/200\n",
      "12400/12400 [==============================] - 20s 2ms/step - loss: 0.1712 - hour_loss: 0.1500 - minute_loss: 0.0210 - hour_accuracy: 0.9485 - hour_custom_mae: 5.4284 - minute_accuracy: 0.0141 - minute_custom_mae: 0.1027 - val_loss: 3.3869 - val_hour_loss: 3.2712 - val_minute_loss: 0.1050 - val_hour_accuracy: 0.3760 - val_hour_custom_mae: 5.5222 - val_minute_accuracy: 0.0055 - val_minute_custom_mae: 0.2565\n",
      "Epoch 10/200\n",
      "12400/12400 [==============================] - 20s 2ms/step - loss: 0.1604 - hour_loss: 0.1421 - minute_loss: 0.0188 - hour_accuracy: 0.9506 - hour_custom_mae: 5.4295 - minute_accuracy: 0.0139 - minute_custom_mae: 0.0958 - val_loss: 1.0456 - val_hour_loss: 0.9991 - val_minute_loss: 0.0592 - val_hour_accuracy: 0.7350 - val_hour_custom_mae: 5.5222 - val_minute_accuracy: 0.0070 - val_minute_custom_mae: 0.1695\n",
      "Epoch 11/200\n",
      "12400/12400 [==============================] - 20s 2ms/step - loss: 0.1264 - hour_loss: 0.1099 - minute_loss: 0.0164 - hour_accuracy: 0.9605 - hour_custom_mae: 5.4272 - minute_accuracy: 0.0146 - minute_custom_mae: 0.0895 - val_loss: 6.8929 - val_hour_loss: 6.7954 - val_minute_loss: 0.0825 - val_hour_accuracy: 0.2125 - val_hour_custom_mae: 5.5222 - val_minute_accuracy: 0.0085 - val_minute_custom_mae: 0.2321\n",
      "Epoch 12/200\n",
      "12400/12400 [==============================] - 20s 2ms/step - loss: 0.1415 - hour_loss: 0.1237 - minute_loss: 0.0178 - hour_accuracy: 0.9590 - hour_custom_mae: 5.4282 - minute_accuracy: 0.0141 - minute_custom_mae: 0.0937 - val_loss: 3.4996 - val_hour_loss: 3.3451 - val_minute_loss: 0.1462 - val_hour_accuracy: 0.5735 - val_hour_custom_mae: 5.5222 - val_minute_accuracy: 0.0030 - val_minute_custom_mae: 0.3095\n",
      "Epoch 13/200\n",
      "12400/12400 [==============================] - 20s 2ms/step - loss: 0.1647 - hour_loss: 0.1477 - minute_loss: 0.0169 - hour_accuracy: 0.9530 - hour_custom_mae: 5.4303 - minute_accuracy: 0.0146 - minute_custom_mae: 0.0900 - val_loss: 0.9662 - val_hour_loss: 0.8826 - val_minute_loss: 0.0800 - val_hour_accuracy: 0.7585 - val_hour_custom_mae: 5.5222 - val_minute_accuracy: 0.0030 - val_minute_custom_mae: 0.2133\n",
      "Epoch 14/200\n",
      "12400/12400 [==============================] - 20s 2ms/step - loss: 0.0982 - hour_loss: 0.0851 - minute_loss: 0.0131 - hour_accuracy: 0.9714 - hour_custom_mae: 5.4285 - minute_accuracy: 0.0146 - minute_custom_mae: 0.0796 - val_loss: 0.2715 - val_hour_loss: 0.2457 - val_minute_loss: 0.0240 - val_hour_accuracy: 0.9235 - val_hour_custom_mae: 5.5222 - val_minute_accuracy: 0.0055 - val_minute_custom_mae: 0.0969\n",
      "Epoch 15/200\n",
      "12400/12400 [==============================] - 20s 2ms/step - loss: 0.0979 - hour_loss: 0.0847 - minute_loss: 0.0132 - hour_accuracy: 0.9729 - hour_custom_mae: 5.4299 - minute_accuracy: 0.0148 - minute_custom_mae: 0.0790 - val_loss: 9.4288 - val_hour_loss: 9.3282 - val_minute_loss: 0.0850 - val_hour_accuracy: 0.1745 - val_hour_custom_mae: 5.5222 - val_minute_accuracy: 0.0085 - val_minute_custom_mae: 0.2336\n",
      "Epoch 16/200\n",
      "12400/12400 [==============================] - 20s 2ms/step - loss: 0.1159 - hour_loss: 0.1032 - minute_loss: 0.0126 - hour_accuracy: 0.9643 - hour_custom_mae: 5.4302 - minute_accuracy: 0.0148 - minute_custom_mae: 0.0774 - val_loss: 2.7909 - val_hour_loss: 2.7383 - val_minute_loss: 0.0528 - val_hour_accuracy: 0.4330 - val_hour_custom_mae: 5.5222 - val_minute_accuracy: 0.0095 - val_minute_custom_mae: 0.1657\n",
      "Epoch 17/200\n",
      "12400/12400 [==============================] - 20s 2ms/step - loss: 0.0706 - hour_loss: 0.0602 - minute_loss: 0.0103 - hour_accuracy: 0.9808 - hour_custom_mae: 5.4296 - minute_accuracy: 0.0151 - minute_custom_mae: 0.0696 - val_loss: 2.4460 - val_hour_loss: 2.3853 - val_minute_loss: 0.0522 - val_hour_accuracy: 0.4810 - val_hour_custom_mae: 5.5222 - val_minute_accuracy: 0.0100 - val_minute_custom_mae: 0.1627\n",
      "Epoch 18/200\n",
      "12400/12400 [==============================] - 20s 2ms/step - loss: 0.0654 - hour_loss: 0.0564 - minute_loss: 0.0089 - hour_accuracy: 0.9815 - hour_custom_mae: 5.4290 - minute_accuracy: 0.0151 - minute_custom_mae: 0.0648 - val_loss: 0.2922 - val_hour_loss: 0.2699 - val_minute_loss: 0.0202 - val_hour_accuracy: 0.9260 - val_hour_custom_mae: 5.5222 - val_minute_accuracy: 0.0130 - val_minute_custom_mae: 0.0870\n",
      "Epoch 19/200\n",
      "12400/12400 [==============================] - 20s 2ms/step - loss: 0.1031 - hour_loss: 0.0931 - minute_loss: 0.0100 - hour_accuracy: 0.9705 - hour_custom_mae: 5.4273 - minute_accuracy: 0.0156 - minute_custom_mae: 0.0684 - val_loss: 0.6815 - val_hour_loss: 0.6443 - val_minute_loss: 0.0341 - val_hour_accuracy: 0.7890 - val_hour_custom_mae: 5.5222 - val_minute_accuracy: 0.0130 - val_minute_custom_mae: 0.1192\n",
      "Epoch 20/200\n",
      "12400/12400 [==============================] - 20s 2ms/step - loss: 0.0677 - hour_loss: 0.0594 - minute_loss: 0.0083 - hour_accuracy: 0.9798 - hour_custom_mae: 5.4288 - minute_accuracy: 0.0152 - minute_custom_mae: 0.0617 - val_loss: 11.8039 - val_hour_loss: 11.6815 - val_minute_loss: 0.0833 - val_hour_accuracy: 0.1630 - val_hour_custom_mae: 5.5222 - val_minute_accuracy: 0.0125 - val_minute_custom_mae: 0.2399\n",
      "Epoch 21/200\n",
      "12400/12400 [==============================] - 20s 2ms/step - loss: 0.0563 - hour_loss: 0.0489 - minute_loss: 0.0079 - hour_accuracy: 0.9841 - hour_custom_mae: 5.4292 - minute_accuracy: 0.0156 - minute_custom_mae: 0.0612 - val_loss: 0.3079 - val_hour_loss: 0.2859 - val_minute_loss: 0.0202 - val_hour_accuracy: 0.9135 - val_hour_custom_mae: 5.5222 - val_minute_accuracy: 0.0110 - val_minute_custom_mae: 0.0966\n",
      "Epoch 22/200\n",
      "12400/12400 [==============================] - 20s 2ms/step - loss: 0.0744 - hour_loss: 0.0662 - minute_loss: 0.0081 - hour_accuracy: 0.9794 - hour_custom_mae: 5.4283 - minute_accuracy: 0.0157 - minute_custom_mae: 0.0606 - val_loss: 8.4374 - val_hour_loss: 8.3404 - val_minute_loss: 0.0785 - val_hour_accuracy: 0.2470 - val_hour_custom_mae: 5.5222 - val_minute_accuracy: 0.0070 - val_minute_custom_mae: 0.2214\n",
      "Epoch 23/200\n",
      "12400/12400 [==============================] - 20s 2ms/step - loss: 0.0482 - hour_loss: 0.0419 - minute_loss: 0.0063 - hour_accuracy: 0.9874 - hour_custom_mae: 5.4276 - minute_accuracy: 0.0158 - minute_custom_mae: 0.0540 - val_loss: 0.9892 - val_hour_loss: 0.9542 - val_minute_loss: 0.0340 - val_hour_accuracy: 0.7480 - val_hour_custom_mae: 5.5222 - val_minute_accuracy: 0.0085 - val_minute_custom_mae: 0.1205\n",
      "Epoch 24/200\n",
      "12400/12400 [==============================] - 20s 2ms/step - loss: 0.0332 - hour_loss: 0.0281 - minute_loss: 0.0052 - hour_accuracy: 0.9907 - hour_custom_mae: 5.4285 - minute_accuracy: 0.0163 - minute_custom_mae: 0.0496 - val_loss: 1.8967 - val_hour_loss: 1.8615 - val_minute_loss: 0.0393 - val_hour_accuracy: 0.6125 - val_hour_custom_mae: 5.5222 - val_minute_accuracy: 0.0120 - val_minute_custom_mae: 0.1369\n",
      "Epoch 25/200\n",
      "12400/12400 [==============================] - 20s 2ms/step - loss: 0.0556 - hour_loss: 0.0493 - minute_loss: 0.0061 - hour_accuracy: 0.9849 - hour_custom_mae: 5.4292 - minute_accuracy: 0.0158 - minute_custom_mae: 0.0536 - val_loss: 1.7161 - val_hour_loss: 1.6738 - val_minute_loss: 0.0414 - val_hour_accuracy: 0.6135 - val_hour_custom_mae: 5.5222 - val_minute_accuracy: 0.0125 - val_minute_custom_mae: 0.1399\n",
      "Epoch 26/200\n",
      "12400/12400 [==============================] - 20s 2ms/step - loss: 0.0571 - hour_loss: 0.0512 - minute_loss: 0.0059 - hour_accuracy: 0.9845 - hour_custom_mae: 5.4304 - minute_accuracy: 0.0160 - minute_custom_mae: 0.0522 - val_loss: 0.5493 - val_hour_loss: 0.5267 - val_minute_loss: 0.0241 - val_hour_accuracy: 0.8435 - val_hour_custom_mae: 5.5222 - val_minute_accuracy: 0.0105 - val_minute_custom_mae: 0.0956\n",
      "Epoch 27/200\n",
      "12400/12400 [==============================] - 20s 2ms/step - loss: 0.0353 - hour_loss: 0.0307 - minute_loss: 0.0046 - hour_accuracy: 0.9906 - hour_custom_mae: 5.4268 - minute_accuracy: 0.0162 - minute_custom_mae: 0.0480 - val_loss: 1.4972 - val_hour_loss: 1.4715 - val_minute_loss: 0.0331 - val_hour_accuracy: 0.6660 - val_hour_custom_mae: 5.5222 - val_minute_accuracy: 0.0125 - val_minute_custom_mae: 0.1209\n",
      "Epoch 28/200\n",
      "12400/12400 [==============================] - 20s 2ms/step - loss: 0.0276 - hour_loss: 0.0239 - minute_loss: 0.0037 - hour_accuracy: 0.9932 - hour_custom_mae: 5.4281 - minute_accuracy: 0.0163 - minute_custom_mae: 0.0436 - val_loss: 0.1914 - val_hour_loss: 0.1628 - val_minute_loss: 0.0274 - val_hour_accuracy: 0.9585 - val_hour_custom_mae: 5.5222 - val_minute_accuracy: 0.0100 - val_minute_custom_mae: 0.0958\n",
      "Epoch 29/200\n",
      "12400/12400 [==============================] - 20s 2ms/step - loss: 0.0416 - hour_loss: 0.0372 - minute_loss: 0.0044 - hour_accuracy: 0.9881 - hour_custom_mae: 5.4269 - minute_accuracy: 0.0163 - minute_custom_mae: 0.0456 - val_loss: 0.5528 - val_hour_loss: 0.5299 - val_minute_loss: 0.0219 - val_hour_accuracy: 0.8485 - val_hour_custom_mae: 5.5222 - val_minute_accuracy: 0.0100 - val_minute_custom_mae: 0.0925\n",
      "Epoch 30/200\n",
      "12400/12400 [==============================] - 20s 2ms/step - loss: 0.0403 - hour_loss: 0.0360 - minute_loss: 0.0042 - hour_accuracy: 0.9888 - hour_custom_mae: 5.4287 - minute_accuracy: 0.0164 - minute_custom_mae: 0.0447 - val_loss: 0.4442 - val_hour_loss: 0.4134 - val_minute_loss: 0.0283 - val_hour_accuracy: 0.8955 - val_hour_custom_mae: 5.5222 - val_minute_accuracy: 0.0110 - val_minute_custom_mae: 0.1088\n",
      "Epoch 31/200\n",
      "12400/12400 [==============================] - 20s 2ms/step - loss: 0.0284 - hour_loss: 0.0243 - minute_loss: 0.0041 - hour_accuracy: 0.9926 - hour_custom_mae: 5.4297 - minute_accuracy: 0.0161 - minute_custom_mae: 0.0436 - val_loss: 7.0174 - val_hour_loss: 6.9423 - val_minute_loss: 0.0627 - val_hour_accuracy: 0.2675 - val_hour_custom_mae: 5.5222 - val_minute_accuracy: 0.0125 - val_minute_custom_mae: 0.1927\n",
      "Epoch 32/200\n",
      "12400/12400 [==============================] - 20s 2ms/step - loss: 0.0418 - hour_loss: 0.0372 - minute_loss: 0.0045 - hour_accuracy: 0.9880 - hour_custom_mae: 5.4282 - minute_accuracy: 0.0162 - minute_custom_mae: 0.0467 - val_loss: 5.5618 - val_hour_loss: 5.4870 - val_minute_loss: 0.0580 - val_hour_accuracy: 0.3090 - val_hour_custom_mae: 5.5222 - val_minute_accuracy: 0.0080 - val_minute_custom_mae: 0.1814\n",
      "Epoch 33/200\n",
      "12400/12400 [==============================] - 20s 2ms/step - loss: 0.0241 - hour_loss: 0.0208 - minute_loss: 0.0033 - hour_accuracy: 0.9930 - hour_custom_mae: 5.4287 - minute_accuracy: 0.0162 - minute_custom_mae: 0.0402 - val_loss: 4.6893 - val_hour_loss: 4.6288 - val_minute_loss: 0.0528 - val_hour_accuracy: 0.4240 - val_hour_custom_mae: 5.5222 - val_minute_accuracy: 0.0095 - val_minute_custom_mae: 0.1648\n",
      "Epoch 34/200\n",
      "12400/12400 [==============================] - 20s 2ms/step - loss: 0.0117 - hour_loss: 0.0093 - minute_loss: 0.0024 - hour_accuracy: 0.9966 - hour_custom_mae: 5.4299 - minute_accuracy: 0.0165 - minute_custom_mae: 0.0356 - val_loss: 15.4145 - val_hour_loss: 15.2859 - val_minute_loss: 0.0887 - val_hour_accuracy: 0.1745 - val_hour_custom_mae: 5.5222 - val_minute_accuracy: 0.0050 - val_minute_custom_mae: 0.2371\n",
      "Epoch 35/200\n",
      "12400/12400 [==============================] - 20s 2ms/step - loss: 0.0390 - hour_loss: 0.0353 - minute_loss: 0.0037 - hour_accuracy: 0.9898 - hour_custom_mae: 5.4289 - minute_accuracy: 0.0165 - minute_custom_mae: 0.0430 - val_loss: 0.7364 - val_hour_loss: 0.7063 - val_minute_loss: 0.0279 - val_hour_accuracy: 0.8220 - val_hour_custom_mae: 5.5222 - val_minute_accuracy: 0.0105 - val_minute_custom_mae: 0.1110\n",
      "Epoch 36/200\n",
      "12400/12400 [==============================] - 20s 2ms/step - loss: 0.0267 - hour_loss: 0.0237 - minute_loss: 0.0030 - hour_accuracy: 0.9927 - hour_custom_mae: 5.4290 - minute_accuracy: 0.0162 - minute_custom_mae: 0.0383 - val_loss: 4.9807 - val_hour_loss: 4.9159 - val_minute_loss: 0.0552 - val_hour_accuracy: 0.4435 - val_hour_custom_mae: 5.5222 - val_minute_accuracy: 0.0125 - val_minute_custom_mae: 0.1687\n",
      "Epoch 37/200\n",
      "12400/12400 [==============================] - 20s 2ms/step - loss: 0.0297 - hour_loss: 0.0268 - minute_loss: 0.0029 - hour_accuracy: 0.9915 - hour_custom_mae: 5.4295 - minute_accuracy: 0.0164 - minute_custom_mae: 0.0379 - val_loss: 3.5683 - val_hour_loss: 3.4930 - val_minute_loss: 0.0799 - val_hour_accuracy: 0.6595 - val_hour_custom_mae: 5.5222 - val_minute_accuracy: 0.0010 - val_minute_custom_mae: 0.1890\n",
      "Epoch 38/200\n",
      "12400/12400 [==============================] - 20s 2ms/step - loss: 0.0141 - hour_loss: 0.0117 - minute_loss: 0.0024 - hour_accuracy: 0.9968 - hour_custom_mae: 5.4294 - minute_accuracy: 0.0165 - minute_custom_mae: 0.0348 - val_loss: 0.2636 - val_hour_loss: 0.2471 - val_minute_loss: 0.0147 - val_hour_accuracy: 0.9380 - val_hour_custom_mae: 5.5222 - val_minute_accuracy: 0.0090 - val_minute_custom_mae: 0.0588\n",
      "Epoch 39/200\n",
      "12400/12400 [==============================] - 20s 2ms/step - loss: 0.0329 - hour_loss: 0.0294 - minute_loss: 0.0034 - hour_accuracy: 0.9920 - hour_custom_mae: 5.4301 - minute_accuracy: 0.0164 - minute_custom_mae: 0.0382 - val_loss: 0.4083 - val_hour_loss: 0.3762 - val_minute_loss: 0.0294 - val_hour_accuracy: 0.8975 - val_hour_custom_mae: 5.5222 - val_minute_accuracy: 0.0065 - val_minute_custom_mae: 0.0954\n",
      "Epoch 40/200\n",
      "12400/12400 [==============================] - 20s 2ms/step - loss: 0.0332 - hour_loss: 0.0301 - minute_loss: 0.0030 - hour_accuracy: 0.9916 - hour_custom_mae: 5.4292 - minute_accuracy: 0.0165 - minute_custom_mae: 0.0385 - val_loss: 0.4019 - val_hour_loss: 0.3790 - val_minute_loss: 0.0244 - val_hour_accuracy: 0.9170 - val_hour_custom_mae: 5.5222 - val_minute_accuracy: 0.0065 - val_minute_custom_mae: 0.0908\n",
      "Epoch 41/200\n",
      "12400/12400 [==============================] - 20s 2ms/step - loss: 0.0107 - hour_loss: 0.0090 - minute_loss: 0.0017 - hour_accuracy: 0.9973 - hour_custom_mae: 5.4275 - minute_accuracy: 0.0165 - minute_custom_mae: 0.0305 - val_loss: 0.1106 - val_hour_loss: 0.0996 - val_minute_loss: 0.0102 - val_hour_accuracy: 0.9775 - val_hour_custom_mae: 5.5222 - val_minute_accuracy: 0.0100 - val_minute_custom_mae: 0.0471\n",
      "Epoch 42/200\n",
      "12400/12400 [==============================] - 20s 2ms/step - loss: 0.0065 - hour_loss: 0.0049 - minute_loss: 0.0015 - hour_accuracy: 0.9987 - hour_custom_mae: 5.4282 - minute_accuracy: 0.0165 - minute_custom_mae: 0.0293 - val_loss: 0.1777 - val_hour_loss: 0.1625 - val_minute_loss: 0.0139 - val_hour_accuracy: 0.9665 - val_hour_custom_mae: 5.5222 - val_minute_accuracy: 0.0125 - val_minute_custom_mae: 0.0569\n",
      "Epoch 43/200\n",
      "12400/12400 [==============================] - 20s 2ms/step - loss: 0.0017 - hour_loss: 5.6160e-04 - minute_loss: 0.0011 - hour_accuracy: 0.9999 - hour_custom_mae: 5.4266 - minute_accuracy: 0.0165 - minute_custom_mae: 0.0255 - val_loss: 0.0988 - val_hour_loss: 0.0871 - val_minute_loss: 0.0109 - val_hour_accuracy: 0.9820 - val_hour_custom_mae: 5.5222 - val_minute_accuracy: 0.0130 - val_minute_custom_mae: 0.0531\n",
      "Epoch 44/200\n",
      "12400/12400 [==============================] - 20s 2ms/step - loss: 9.5285e-04 - hour_loss: 8.4775e-05 - minute_loss: 8.6815e-04 - hour_accuracy: 1.0000 - hour_custom_mae: 5.4291 - minute_accuracy: 0.0165 - minute_custom_mae: 0.0227 - val_loss: 0.0958 - val_hour_loss: 0.0853 - val_minute_loss: 0.0097 - val_hour_accuracy: 0.9825 - val_hour_custom_mae: 5.5222 - val_minute_accuracy: 0.0125 - val_minute_custom_mae: 0.0413\n",
      "Epoch 45/200\n",
      "12400/12400 [==============================] - 20s 2ms/step - loss: 8.7871e-04 - hour_loss: 6.5404e-05 - minute_loss: 8.1324e-04 - hour_accuracy: 1.0000 - hour_custom_mae: 5.4294 - minute_accuracy: 0.0165 - minute_custom_mae: 0.0222 - val_loss: 0.0927 - val_hour_loss: 0.0829 - val_minute_loss: 0.0091 - val_hour_accuracy: 0.9820 - val_hour_custom_mae: 5.5222 - val_minute_accuracy: 0.0120 - val_minute_custom_mae: 0.0420\n",
      "Epoch 46/200\n",
      "12400/12400 [==============================] - 20s 2ms/step - loss: 8.8527e-04 - hour_loss: 5.5615e-05 - minute_loss: 8.2994e-04 - hour_accuracy: 1.0000 - hour_custom_mae: 5.4286 - minute_accuracy: 0.0165 - minute_custom_mae: 0.0225 - val_loss: 0.0890 - val_hour_loss: 0.0790 - val_minute_loss: 0.0094 - val_hour_accuracy: 0.9830 - val_hour_custom_mae: 5.5222 - val_minute_accuracy: 0.0125 - val_minute_custom_mae: 0.0413\n",
      "Epoch 47/200\n",
      "12400/12400 [==============================] - 20s 2ms/step - loss: 7.2026e-04 - hour_loss: 4.2840e-05 - minute_loss: 6.7685e-04 - hour_accuracy: 1.0000 - hour_custom_mae: 5.4305 - minute_accuracy: 0.0165 - minute_custom_mae: 0.0202 - val_loss: 0.0957 - val_hour_loss: 0.0855 - val_minute_loss: 0.0095 - val_hour_accuracy: 0.9825 - val_hour_custom_mae: 5.5222 - val_minute_accuracy: 0.0115 - val_minute_custom_mae: 0.0407\n",
      "Epoch 48/200\n",
      "12400/12400 [==============================] - 20s 2ms/step - loss: 7.1185e-04 - hour_loss: 4.0228e-05 - minute_loss: 6.7115e-04 - hour_accuracy: 1.0000 - hour_custom_mae: 5.4294 - minute_accuracy: 0.0165 - minute_custom_mae: 0.0201 - val_loss: 0.0965 - val_hour_loss: 0.0857 - val_minute_loss: 0.0101 - val_hour_accuracy: 0.9820 - val_hour_custom_mae: 5.5222 - val_minute_accuracy: 0.0125 - val_minute_custom_mae: 0.0440\n",
      "Epoch 49/200\n",
      "12400/12400 [==============================] - 20s 2ms/step - loss: 7.7662e-04 - hour_loss: 3.3608e-05 - minute_loss: 7.4326e-04 - hour_accuracy: 1.0000 - hour_custom_mae: 5.4299 - minute_accuracy: 0.0165 - minute_custom_mae: 0.0211 - val_loss: 0.0943 - val_hour_loss: 0.0834 - val_minute_loss: 0.0102 - val_hour_accuracy: 0.9820 - val_hour_custom_mae: 5.5222 - val_minute_accuracy: 0.0120 - val_minute_custom_mae: 0.0441\n",
      "Epoch 50/200\n",
      "12400/12400 [==============================] - 20s 2ms/step - loss: 6.8705e-04 - hour_loss: 3.1530e-05 - minute_loss: 6.5520e-04 - hour_accuracy: 1.0000 - hour_custom_mae: 5.4286 - minute_accuracy: 0.0165 - minute_custom_mae: 0.0198 - val_loss: 0.0892 - val_hour_loss: 0.0790 - val_minute_loss: 0.0096 - val_hour_accuracy: 0.9815 - val_hour_custom_mae: 5.5222 - val_minute_accuracy: 0.0110 - val_minute_custom_mae: 0.0428\n",
      "Epoch 51/200\n",
      "12400/12400 [==============================] - 20s 2ms/step - loss: 6.9314e-04 - hour_loss: 3.0410e-05 - minute_loss: 6.6395e-04 - hour_accuracy: 1.0000 - hour_custom_mae: 5.4278 - minute_accuracy: 0.0165 - minute_custom_mae: 0.0200 - val_loss: 0.0957 - val_hour_loss: 0.0855 - val_minute_loss: 0.0095 - val_hour_accuracy: 0.9820 - val_hour_custom_mae: 5.5222 - val_minute_accuracy: 0.0110 - val_minute_custom_mae: 0.0418\n",
      "Epoch 52/200\n",
      "12400/12400 [==============================] - 20s 2ms/step - loss: 6.7396e-04 - hour_loss: 2.9640e-05 - minute_loss: 6.4396e-04 - hour_accuracy: 1.0000 - hour_custom_mae: 5.4306 - minute_accuracy: 0.0165 - minute_custom_mae: 0.0197 - val_loss: 0.0915 - val_hour_loss: 0.0811 - val_minute_loss: 0.0097 - val_hour_accuracy: 0.9825 - val_hour_custom_mae: 5.5222 - val_minute_accuracy: 0.0105 - val_minute_custom_mae: 0.0403\n",
      "Epoch 53/200\n",
      "12400/12400 [==============================] - 20s 2ms/step - loss: 7.2461e-04 - hour_loss: 2.9492e-05 - minute_loss: 6.9460e-04 - hour_accuracy: 1.0000 - hour_custom_mae: 5.4301 - minute_accuracy: 0.0165 - minute_custom_mae: 0.0199 - val_loss: 0.0919 - val_hour_loss: 0.0820 - val_minute_loss: 0.0093 - val_hour_accuracy: 0.9825 - val_hour_custom_mae: 5.5222 - val_minute_accuracy: 0.0105 - val_minute_custom_mae: 0.0394\n",
      "Epoch 54/200\n",
      "12400/12400 [==============================] - 20s 2ms/step - loss: 8.9797e-04 - hour_loss: 3.1366e-05 - minute_loss: 8.6996e-04 - hour_accuracy: 1.0000 - hour_custom_mae: 5.4285 - minute_accuracy: 0.0165 - minute_custom_mae: 0.0200 - val_loss: 0.1450 - val_hour_loss: 0.1296 - val_minute_loss: 0.0144 - val_hour_accuracy: 0.9725 - val_hour_custom_mae: 5.5222 - val_minute_accuracy: 0.0115 - val_minute_custom_mae: 0.0579\n",
      "Epoch 55/200\n",
      "12400/12400 [==============================] - 20s 2ms/step - loss: 0.0020 - hour_loss: 9.2244e-05 - minute_loss: 0.0019 - hour_accuracy: 1.0000 - hour_custom_mae: 5.4294 - minute_accuracy: 0.0164 - minute_custom_mae: 0.0296 - val_loss: 0.1217 - val_hour_loss: 0.1031 - val_minute_loss: 0.0177 - val_hour_accuracy: 0.9755 - val_hour_custom_mae: 5.5222 - val_minute_accuracy: 0.0065 - val_minute_custom_mae: 0.0661\n",
      "Epoch 56/200\n",
      "12400/12400 [==============================] - 20s 2ms/step - loss: 0.0963 - hour_loss: 0.0900 - minute_loss: 0.0061 - hour_accuracy: 0.9741 - hour_custom_mae: 5.4309 - minute_accuracy: 0.0159 - minute_custom_mae: 0.0493 - val_loss: 1.2960 - val_hour_loss: 1.2590 - val_minute_loss: 0.0419 - val_hour_accuracy: 0.6900 - val_hour_custom_mae: 5.5222 - val_minute_accuracy: 0.0115 - val_minute_custom_mae: 0.1357\n",
      "Epoch 57/200\n",
      "12400/12400 [==============================] - 20s 2ms/step - loss: 0.0179 - hour_loss: 0.0160 - minute_loss: 0.0019 - hour_accuracy: 0.9953 - hour_custom_mae: 5.4300 - minute_accuracy: 0.0165 - minute_custom_mae: 0.0307 - val_loss: 0.1210 - val_hour_loss: 0.1085 - val_minute_loss: 0.0116 - val_hour_accuracy: 0.9665 - val_hour_custom_mae: 5.5222 - val_minute_accuracy: 0.0125 - val_minute_custom_mae: 0.0463\n",
      "Epoch 58/200\n",
      "12400/12400 [==============================] - 20s 2ms/step - loss: 0.0049 - hour_loss: 0.0038 - minute_loss: 0.0011 - hour_accuracy: 0.9987 - hour_custom_mae: 5.4297 - minute_accuracy: 0.0165 - minute_custom_mae: 0.0242 - val_loss: 0.1599 - val_hour_loss: 0.1468 - val_minute_loss: 0.0119 - val_hour_accuracy: 0.9590 - val_hour_custom_mae: 5.5222 - val_minute_accuracy: 0.0135 - val_minute_custom_mae: 0.0498\n",
      "Epoch 59/200\n",
      "12400/12400 [==============================] - 20s 2ms/step - loss: 0.0118 - hour_loss: 0.0106 - minute_loss: 0.0013 - hour_accuracy: 0.9968 - hour_custom_mae: 5.4290 - minute_accuracy: 0.0165 - minute_custom_mae: 0.0255 - val_loss: 0.2830 - val_hour_loss: 0.2542 - val_minute_loss: 0.0268 - val_hour_accuracy: 0.9295 - val_hour_custom_mae: 5.5222 - val_minute_accuracy: 0.0075 - val_minute_custom_mae: 0.0930\n",
      "Epoch 60/200\n",
      "12400/12400 [==============================] - 21s 2ms/step - loss: 0.0096 - hour_loss: 0.0084 - minute_loss: 0.0012 - hour_accuracy: 0.9973 - hour_custom_mae: 5.4302 - minute_accuracy: 0.0165 - minute_custom_mae: 0.0254 - val_loss: 2.2897 - val_hour_loss: 2.2552 - val_minute_loss: 0.0305 - val_hour_accuracy: 0.7250 - val_hour_custom_mae: 5.5222 - val_minute_accuracy: 0.0085 - val_minute_custom_mae: 0.1096\n",
      "Epoch 61/200\n",
      "12400/12400 [==============================] - 20s 2ms/step - loss: 0.0123 - hour_loss: 0.0110 - minute_loss: 0.0013 - hour_accuracy: 0.9968 - hour_custom_mae: 5.4311 - minute_accuracy: 0.0165 - minute_custom_mae: 0.0255 - val_loss: 0.2330 - val_hour_loss: 0.2195 - val_minute_loss: 0.0186 - val_hour_accuracy: 0.9475 - val_hour_custom_mae: 5.5222 - val_minute_accuracy: 0.0115 - val_minute_custom_mae: 0.0824\n",
      "Epoch 62/200\n",
      "12400/12400 [==============================] - 20s 2ms/step - loss: 0.0097 - hour_loss: 0.0085 - minute_loss: 0.0012 - hour_accuracy: 0.9978 - hour_custom_mae: 5.4286 - minute_accuracy: 0.0164 - minute_custom_mae: 0.0252 - val_loss: 0.0919 - val_hour_loss: 0.0806 - val_minute_loss: 0.0106 - val_hour_accuracy: 0.9820 - val_hour_custom_mae: 5.5222 - val_minute_accuracy: 0.0115 - val_minute_custom_mae: 0.0448\n",
      "Epoch 63/200\n",
      "12400/12400 [==============================] - 20s 2ms/step - loss: 0.0021 - hour_loss: 0.0014 - minute_loss: 7.2065e-04 - hour_accuracy: 0.9996 - hour_custom_mae: 5.4272 - minute_accuracy: 0.0165 - minute_custom_mae: 0.0205 - val_loss: 0.3741 - val_hour_loss: 0.3627 - val_minute_loss: 0.0161 - val_hour_accuracy: 0.9145 - val_hour_custom_mae: 5.5222 - val_minute_accuracy: 0.0125 - val_minute_custom_mae: 0.0657\n",
      "Epoch 64/200\n",
      "12400/12400 [==============================] - 20s 2ms/step - loss: 0.0111 - hour_loss: 0.0100 - minute_loss: 0.0011 - hour_accuracy: 0.9970 - hour_custom_mae: 5.4288 - minute_accuracy: 0.0165 - minute_custom_mae: 0.0240 - val_loss: 0.4410 - val_hour_loss: 0.4210 - val_minute_loss: 0.0220 - val_hour_accuracy: 0.8960 - val_hour_custom_mae: 5.5222 - val_minute_accuracy: 0.0095 - val_minute_custom_mae: 0.0841\n",
      "Epoch 65/200\n",
      "12400/12400 [==============================] - 20s 2ms/step - loss: 0.0109 - hour_loss: 0.0097 - minute_loss: 0.0012 - hour_accuracy: 0.9967 - hour_custom_mae: 5.4299 - minute_accuracy: 0.0165 - minute_custom_mae: 0.0251 - val_loss: 6.5675 - val_hour_loss: 6.4990 - val_minute_loss: 0.0697 - val_hour_accuracy: 0.3295 - val_hour_custom_mae: 5.5222 - val_minute_accuracy: 0.0060 - val_minute_custom_mae: 0.1992\n",
      "Epoch 66/200\n",
      "12400/12400 [==============================] - 20s 2ms/step - loss: 0.0208 - hour_loss: 0.0193 - minute_loss: 0.0014 - hour_accuracy: 0.9954 - hour_custom_mae: 5.4267 - minute_accuracy: 0.0165 - minute_custom_mae: 0.0276 - val_loss: 0.5190 - val_hour_loss: 0.4929 - val_minute_loss: 0.0224 - val_hour_accuracy: 0.9025 - val_hour_custom_mae: 5.5222 - val_minute_accuracy: 0.0100 - val_minute_custom_mae: 0.0809\n"
     ]
    },
    {
     "name": "stderr",
     "output_type": "stream",
     "text": [
      "/usr/local/lib/python3.6/dist-packages/keras/engine/saving.py:165: UserWarning: TensorFlow optimizers do not make it possible to access optimizer attributes or optimizer state after instantiation. As a result, we cannot save the optimizer as part of the model save file.You will have to compile your model again after loading it. Prefer using a Keras optimizer instead (see keras.io/optimizers).\n",
      "  'TensorFlow optimizers do not '\n"
     ]
    }
   ],
   "source": [
    "# fit the model\n",
    "history_comb = time_combined.fit(X_train, [y_train_hours, y_train_minutes], epochs=epochs,\n",
    "                validation_data = (X_valid, [y_valid_hours, y_valid_minutes]),\n",
    "                callbacks = [early_stopping_cb])\n",
    "\n",
    "# save the model\n",
    "time_combined.save(model_path + time_combined.name + \".h5\")\n",
    "        \n",
    "# write history to file\n",
    "pd.DataFrame(history_comb.history).to_csv(history_path + time_combined.name + \".csv\")"
   ]
  },
  {
   "cell_type": "markdown",
   "metadata": {
    "colab_type": "text",
    "id": "OUH2f7ju_If0"
   },
   "source": [
    "### Evaluate the combined model\n"
   ]
  },
  {
   "cell_type": "code",
   "execution_count": 0,
   "metadata": {
    "colab": {
     "base_uri": "https://localhost:8080/",
     "height": 105
    },
    "colab_type": "code",
    "id": "_eqtjJy3_Pcx",
    "outputId": "a236c4ad-44f4-4b09-e1e3-3c59bb022c61"
   },
   "outputs": [
    {
     "name": "stdout",
     "output_type": "stream",
     "text": [
      "Results:\n",
      "Train:  [0.0006074791693789584, 3.8884896639501676e-05, 0.0005688865785486996, 1.0, 5.42827844619751, 0.016532257199287415, 0.01861099898815155]\n",
      "Valid:  [0.0890164935234934, 0.07899459451436996, 0.009376144967973232, 0.9829999804496765, 5.522156238555908, 0.012500000186264515, 0.04133400321006775]\n",
      "Test:   [0.1007959148267077, 0.09038174152374268, 0.01000005193054676, 0.9783333539962769, 5.402469635009766, 0.013888888992369175, 0.04145611822605133]\n"
     ]
    }
   ],
   "source": [
    "# evaluate the model\n",
    "score_train = time_combined.evaluate(X_train, [y_train_hours, y_train_minutes], verbose=0)\n",
    "score_valid = time_combined.evaluate(X_valid, [y_valid_hours, y_valid_minutes], verbose=0)\n",
    "score_test = time_combined.evaluate(X_test, [y_test_hours, y_test_minutes], verbose=0)\n",
    "print(\"Results:\")\n",
    "print(\"Train: \", score_train)\n",
    "print(\"Valid: \", score_valid)\n",
    "print(\"Test:  \", score_test)"
   ]
  },
  {
   "cell_type": "code",
   "execution_count": 0,
   "metadata": {
    "colab": {
     "base_uri": "https://localhost:8080/",
     "height": 281
    },
    "colab_type": "code",
    "id": "vq7MPdj7DfpU",
    "outputId": "8875ed5f-cd47-470e-a1e1-23fce4a2c069"
   },
   "outputs": [
    {
     "data": {
      "image/png": "[encoded data removed]",
      "text/plain": [
       "<Figure size 432x288 with 1 Axes>"
      ]
     },
     "metadata": {
      "needs_background": "light",
      "tags": []
     },
     "output_type": "display_data"
    }
   ],
   "source": [
    "# plot accuracy during training\n",
    "plt.title('Hour Accuracy')\n",
    "plt.plot(history_comb.history['hour_accuracy'], label='train')\n",
    "plt.plot(history_comb.history['val_hour_accuracy'], label='valid')\n",
    "plt.legend()\n",
    "plt.show()"
   ]
  },
  {
   "cell_type": "code",
   "execution_count": 0,
   "metadata": {
    "colab": {
     "base_uri": "https://localhost:8080/",
     "height": 281
    },
    "colab_type": "code",
    "id": "vqmC4J7GDt4X",
    "outputId": "5df3b891-c93d-4e0f-b0d8-dd006f306f12"
   },
   "outputs": [
    {
     "data": {
      "image/png": "[encoded data removed]",
      "text/plain": [
       "<Figure size 432x288 with 1 Axes>"
      ]
     },
     "metadata": {
      "needs_background": "light",
      "tags": []
     },
     "output_type": "display_data"
    }
   ],
   "source": [
    "# plot accuracy during training\n",
    "plt.title('Minute MAE')\n",
    "plt.plot(history_comb.history['minute_custom_mae'], label='train')\n",
    "plt.plot(history_comb.history['val_minute_custom_mae'], label='valid')\n",
    "plt.legend()\n",
    "plt.show()"
   ]
  },
  {
   "cell_type": "markdown",
   "metadata": {
    "colab_type": "text",
    "id": "ltHnY57RreC9"
   },
   "source": [
    "### Common Sense accuracy"
   ]
  },
  {
   "cell_type": "code",
   "execution_count": 0,
   "metadata": {
    "colab": {},
    "colab_type": "code",
    "id": "15Den286eY_6"
   },
   "outputs": [],
   "source": [
    "def common_sense_accuracy(model, X, y):\n",
    "  \"\"\"\n",
    "  function that first computes the predictions on the given dataset, \n",
    "  then transforms predictions and actual values to the minutes scale and calculates the error \n",
    "  and finally returns the common sense accuracy \n",
    "  \"\"\"\n",
    "\n",
    "  def custom_predict(model, X):\n",
    "    pred = model.predict(X)\n",
    "    hours = [np.argmax(pred[0][i]) for i in range(len(pred[0]))]\n",
    "    minutes = [int(pred[1][i][0]*60) for i in range(len(pred[1]))]\n",
    "    return [[hours[i], minutes[i]] for i in range(len(pred[0]))]\n",
    "\n",
    "  def common_sencse_error(pred, true):\n",
    "    pred_total_minutes = [pred[i][0]*60 + pred[i][1] for i in range(len(pred))]\n",
    "    true_total_minutes = [true[i][0]*60 + true[i][1] for i in range(len(true))]\n",
    "    abs_diff = np.absolute(np.subtract(true_total_minutes, pred_total_minutes))\n",
    "    min_diff = np.minimum(np.subtract(720, abs_diff), abs_diff)\n",
    "    return min_diff\n",
    "\n",
    "\n",
    "  pred = custom_predict(model, X)\n",
    "  error = common_sencse_error(pred, y)\n",
    "\n",
    "  return np.mean(error)"
   ]
  },
  {
   "cell_type": "code",
   "execution_count": 0,
   "metadata": {
    "colab": {
     "base_uri": "https://localhost:8080/",
     "height": 85
    },
    "colab_type": "code",
    "id": "djnFmyLJbhJu",
    "outputId": "a88498de-f6e4-457c-cc53-6e5444643c19"
   },
   "outputs": [
    {
     "name": "stdout",
     "output_type": "stream",
     "text": [
      "Evaluating common sense accuracy:\n",
      "Train: 1.2487903225806452\n",
      "Valid: 3.1455\n",
      "Test:  3.131111111111111\n"
     ]
    }
   ],
   "source": [
    "acc_train = common_sense_accuracy(time_combined, X_train, y_train)\n",
    "acc_valid = common_sense_accuracy(time_combined, X_valid, y_valid)\n",
    "acc_test = common_sense_accuracy(time_combined, X_test, y_test)\n",
    "print(\"Evaluating common sense accuracy:\")\n",
    "print(\"Train:\", acc_train)\n",
    "print(\"Valid:\", acc_valid)\n",
    "print(\"Test: \", acc_test)"
   ]
  },
  {
   "cell_type": "markdown",
   "metadata": {
    "colab_type": "text",
    "id": "vMGSW9p8qYEY"
   },
   "source": [
    "### Plot time vs residuals\n"
   ]
  },
  {
   "cell_type": "code",
   "execution_count": 0,
   "metadata": {
    "colab": {
     "base_uri": "https://localhost:8080/",
     "height": 295
    },
    "colab_type": "code",
    "id": "aZFNY0UdqWby",
    "outputId": "d2039a89-ea23-4afe-d0ea-7a9704186147"
   },
   "outputs": [
    {
     "data": {
      "image/png": "[encoded data removed]",
      "text/plain": [
       "<Figure size 432x288 with 1 Axes>"
      ]
     },
     "metadata": {
      "needs_background": "light",
      "tags": []
     },
     "output_type": "display_data"
    }
   ],
   "source": [
    "def plot_timevserror(true, error):\n",
    "  true = [true[i][0]*60 + true[i][1] for i in range(len(true))]\n",
    "  df = pd.DataFrame(error, index = true)\n",
    "  df = df.sort_index()\n",
    "  df = df.rolling(int(len(true)/10)).mean()\n",
    "  sns.lineplot(data = df, legend = None)\n",
    "  plt.xlabel(\"Time\")\n",
    "  plt.ylabel(\"Custom Error\")\n",
    "  plt.title(\"Error vs. Time\")\n",
    "  plt.show()\n",
    "\n",
    "plot_timevserror(y_test, error)"
   ]
  }
 ],
 "metadata": {
  "colab": {
   "collapsed_sections": [],
   "name": "DLNN Assignment II.ipynb",
   "provenance": [],
   "toc_visible": true
  },
  "kernelspec": {
   "display_name": "Python 3",
   "language": "python",
   "name": "python3"
  },
  "language_info": {
   "codemirror_mode": {
    "name": "ipython",
    "version": 3
   },
   "file_extension": ".py",
   "mimetype": "text/x-python",
   "name": "python",
   "nbconvert_exporter": "python",
   "pygments_lexer": "ipython3",
   "version": "3.7.3"
  }
 },
 "nbformat": 4,
 "nbformat_minor": 1
}
